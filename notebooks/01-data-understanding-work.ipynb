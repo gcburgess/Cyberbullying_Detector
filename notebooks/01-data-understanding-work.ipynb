{
 "cells": [
  {
   "cell_type": "code",
   "execution_count": 1,
   "metadata": {},
   "outputs": [],
   "source": [
    "# Import standard packages\n",
    "import pandas as pd\n",
    "import numpy as np\n",
    "import matplotlib.pyplot as plt\n",
    "import seaborn as sns\n",
    "\n",
    "from sklearn.model_selection import train_test_split\n",
    "from sklearn.utils import resample\n",
    "from sklearn.feature_extraction.text import CountVectorizer, TfidfVectorizer\n",
    "\n",
    "from nltk.corpus import stopwords, wordnet\n",
    "from nltk.stem import WordNetLemmatizer\n",
    "from nltk.tokenize import RegexpTokenizer\n",
    "from nltk import pos_tag\n",
    "\n",
    "pd.options.display.float_format = '{:.3f}'.format\n",
    "pd.options.display.max_columns = 50\n",
    "pd.options.display.max_colwidth = 300 # max width of a column\n",
    "\n",
    "%matplotlib inline"
   ]
  },
  {
   "cell_type": "code",
   "execution_count": 93,
   "metadata": {},
   "outputs": [],
   "source": [
    "jigsaw_df = pd.read_csv('../data/jigsaw-unintended-bias-in-toxicity-classification/all_data.csv')"
   ]
  },
  {
   "cell_type": "code",
   "execution_count": 3,
   "metadata": {},
   "outputs": [
    {
     "name": "stdout",
     "output_type": "stream",
     "text": [
      "<class 'pandas.core.frame.DataFrame'>\n",
      "RangeIndex: 1999516 entries, 0 to 1999515\n",
      "Data columns (total 46 columns):\n",
      " #   Column                               Non-Null Count    Dtype  \n",
      "---  ------                               --------------    -----  \n",
      " 0   id                                   1999516 non-null  int64  \n",
      " 1   comment_text                         1999515 non-null  object \n",
      " 2   split                                1999516 non-null  object \n",
      " 3   created_date                         1999516 non-null  object \n",
      " 4   publication_id                       1999516 non-null  int64  \n",
      " 5   parent_id                            1134709 non-null  float64\n",
      " 6   article_id                           1999516 non-null  int64  \n",
      " 7   rating                               1999516 non-null  object \n",
      " 8   funny                                1999516 non-null  int64  \n",
      " 9   wow                                  1999516 non-null  int64  \n",
      " 10  sad                                  1999516 non-null  int64  \n",
      " 11  likes                                1999516 non-null  int64  \n",
      " 12  disagree                             1999516 non-null  int64  \n",
      " 13  toxicity                             1999516 non-null  float64\n",
      " 14  severe_toxicity                      1999516 non-null  float64\n",
      " 15  obscene                              1999516 non-null  float64\n",
      " 16  sexual_explicit                      1999516 non-null  float64\n",
      " 17  identity_attack                      1999516 non-null  float64\n",
      " 18  insult                               1999516 non-null  float64\n",
      " 19  threat                               1999516 non-null  float64\n",
      " 20  male                                 448000 non-null   float64\n",
      " 21  female                               448000 non-null   float64\n",
      " 22  transgender                          448000 non-null   float64\n",
      " 23  other_gender                         448000 non-null   float64\n",
      " 24  heterosexual                         448000 non-null   float64\n",
      " 25  homosexual_gay_or_lesbian            448000 non-null   float64\n",
      " 26  bisexual                             448000 non-null   float64\n",
      " 27  other_sexual_orientation             448000 non-null   float64\n",
      " 28  christian                            448000 non-null   float64\n",
      " 29  jewish                               448000 non-null   float64\n",
      " 30  muslim                               448000 non-null   float64\n",
      " 31  hindu                                448000 non-null   float64\n",
      " 32  buddhist                             448000 non-null   float64\n",
      " 33  atheist                              448000 non-null   float64\n",
      " 34  other_religion                       448000 non-null   float64\n",
      " 35  black                                448000 non-null   float64\n",
      " 36  white                                448000 non-null   float64\n",
      " 37  asian                                448000 non-null   float64\n",
      " 38  latino                               448000 non-null   float64\n",
      " 39  other_race_or_ethnicity              448000 non-null   float64\n",
      " 40  physical_disability                  448000 non-null   float64\n",
      " 41  intellectual_or_learning_disability  448000 non-null   float64\n",
      " 42  psychiatric_or_mental_illness        448000 non-null   float64\n",
      " 43  other_disability                     448000 non-null   float64\n",
      " 44  identity_annotator_count             1999516 non-null  int64  \n",
      " 45  toxicity_annotator_count             1999516 non-null  int64  \n",
      "dtypes: float64(32), int64(10), object(4)\n",
      "memory usage: 701.7+ MB\n"
     ]
    }
   ],
   "source": [
    "jigsaw_df.info(null_counts=True, memory_usage=True)"
   ]
  },
  {
   "cell_type": "code",
   "execution_count": 32,
   "metadata": {},
   "outputs": [
    {
     "data": {
      "text/html": [
       "<div>\n",
       "<style scoped>\n",
       "    .dataframe tbody tr th:only-of-type {\n",
       "        vertical-align: middle;\n",
       "    }\n",
       "\n",
       "    .dataframe tbody tr th {\n",
       "        vertical-align: top;\n",
       "    }\n",
       "\n",
       "    .dataframe thead th {\n",
       "        text-align: right;\n",
       "    }\n",
       "</style>\n",
       "<table border=\"1\" class=\"dataframe\">\n",
       "  <thead>\n",
       "    <tr style=\"text-align: right;\">\n",
       "      <th></th>\n",
       "      <th>funny</th>\n",
       "      <th>wow</th>\n",
       "      <th>sad</th>\n",
       "      <th>likes</th>\n",
       "      <th>disagree</th>\n",
       "      <th>toxicity</th>\n",
       "      <th>severe_toxicity</th>\n",
       "      <th>obscene</th>\n",
       "      <th>sexual_explicit</th>\n",
       "      <th>identity_attack</th>\n",
       "      <th>insult</th>\n",
       "      <th>threat</th>\n",
       "    </tr>\n",
       "  </thead>\n",
       "  <tbody>\n",
       "    <tr>\n",
       "      <th>count</th>\n",
       "      <td>1999516.000</td>\n",
       "      <td>1999516.000</td>\n",
       "      <td>1999516.000</td>\n",
       "      <td>1999516.000</td>\n",
       "      <td>1999516.000</td>\n",
       "      <td>1999516.000</td>\n",
       "      <td>1999516.000</td>\n",
       "      <td>1999516.000</td>\n",
       "      <td>1999516.000</td>\n",
       "      <td>1999516.000</td>\n",
       "      <td>1999516.000</td>\n",
       "      <td>1999516.000</td>\n",
       "    </tr>\n",
       "    <tr>\n",
       "      <th>mean</th>\n",
       "      <td>0.278</td>\n",
       "      <td>0.044</td>\n",
       "      <td>0.109</td>\n",
       "      <td>2.441</td>\n",
       "      <td>0.581</td>\n",
       "      <td>0.103</td>\n",
       "      <td>0.005</td>\n",
       "      <td>0.014</td>\n",
       "      <td>0.007</td>\n",
       "      <td>0.023</td>\n",
       "      <td>0.081</td>\n",
       "      <td>0.009</td>\n",
       "    </tr>\n",
       "    <tr>\n",
       "      <th>std</th>\n",
       "      <td>1.055</td>\n",
       "      <td>0.246</td>\n",
       "      <td>0.456</td>\n",
       "      <td>4.713</td>\n",
       "      <td>1.854</td>\n",
       "      <td>0.197</td>\n",
       "      <td>0.023</td>\n",
       "      <td>0.065</td>\n",
       "      <td>0.045</td>\n",
       "      <td>0.079</td>\n",
       "      <td>0.176</td>\n",
       "      <td>0.049</td>\n",
       "    </tr>\n",
       "    <tr>\n",
       "      <th>min</th>\n",
       "      <td>0.000</td>\n",
       "      <td>0.000</td>\n",
       "      <td>0.000</td>\n",
       "      <td>0.000</td>\n",
       "      <td>0.000</td>\n",
       "      <td>0.000</td>\n",
       "      <td>0.000</td>\n",
       "      <td>0.000</td>\n",
       "      <td>0.000</td>\n",
       "      <td>0.000</td>\n",
       "      <td>0.000</td>\n",
       "      <td>0.000</td>\n",
       "    </tr>\n",
       "    <tr>\n",
       "      <th>25%</th>\n",
       "      <td>0.000</td>\n",
       "      <td>0.000</td>\n",
       "      <td>0.000</td>\n",
       "      <td>0.000</td>\n",
       "      <td>0.000</td>\n",
       "      <td>0.000</td>\n",
       "      <td>0.000</td>\n",
       "      <td>0.000</td>\n",
       "      <td>0.000</td>\n",
       "      <td>0.000</td>\n",
       "      <td>0.000</td>\n",
       "      <td>0.000</td>\n",
       "    </tr>\n",
       "    <tr>\n",
       "      <th>50%</th>\n",
       "      <td>0.000</td>\n",
       "      <td>0.000</td>\n",
       "      <td>0.000</td>\n",
       "      <td>1.000</td>\n",
       "      <td>0.000</td>\n",
       "      <td>0.000</td>\n",
       "      <td>0.000</td>\n",
       "      <td>0.000</td>\n",
       "      <td>0.000</td>\n",
       "      <td>0.000</td>\n",
       "      <td>0.000</td>\n",
       "      <td>0.000</td>\n",
       "    </tr>\n",
       "    <tr>\n",
       "      <th>75%</th>\n",
       "      <td>0.000</td>\n",
       "      <td>0.000</td>\n",
       "      <td>0.000</td>\n",
       "      <td>3.000</td>\n",
       "      <td>0.000</td>\n",
       "      <td>0.167</td>\n",
       "      <td>0.000</td>\n",
       "      <td>0.000</td>\n",
       "      <td>0.000</td>\n",
       "      <td>0.000</td>\n",
       "      <td>0.085</td>\n",
       "      <td>0.000</td>\n",
       "    </tr>\n",
       "    <tr>\n",
       "      <th>max</th>\n",
       "      <td>102.000</td>\n",
       "      <td>21.000</td>\n",
       "      <td>31.000</td>\n",
       "      <td>300.000</td>\n",
       "      <td>187.000</td>\n",
       "      <td>1.000</td>\n",
       "      <td>1.000</td>\n",
       "      <td>1.000</td>\n",
       "      <td>1.000</td>\n",
       "      <td>1.000</td>\n",
       "      <td>1.000</td>\n",
       "      <td>1.000</td>\n",
       "    </tr>\n",
       "  </tbody>\n",
       "</table>\n",
       "</div>"
      ],
      "text/plain": [
       "            funny         wow         sad       likes    disagree    toxicity  \\\n",
       "count 1999516.000 1999516.000 1999516.000 1999516.000 1999516.000 1999516.000   \n",
       "mean        0.278       0.044       0.109       2.441       0.581       0.103   \n",
       "std         1.055       0.246       0.456       4.713       1.854       0.197   \n",
       "min         0.000       0.000       0.000       0.000       0.000       0.000   \n",
       "25%         0.000       0.000       0.000       0.000       0.000       0.000   \n",
       "50%         0.000       0.000       0.000       1.000       0.000       0.000   \n",
       "75%         0.000       0.000       0.000       3.000       0.000       0.167   \n",
       "max       102.000      21.000      31.000     300.000     187.000       1.000   \n",
       "\n",
       "       severe_toxicity     obscene  sexual_explicit  identity_attack  \\\n",
       "count      1999516.000 1999516.000      1999516.000      1999516.000   \n",
       "mean             0.005       0.014            0.007            0.023   \n",
       "std              0.023       0.065            0.045            0.079   \n",
       "min              0.000       0.000            0.000            0.000   \n",
       "25%              0.000       0.000            0.000            0.000   \n",
       "50%              0.000       0.000            0.000            0.000   \n",
       "75%              0.000       0.000            0.000            0.000   \n",
       "max              1.000       1.000            1.000            1.000   \n",
       "\n",
       "           insult      threat  \n",
       "count 1999516.000 1999516.000  \n",
       "mean        0.081       0.009  \n",
       "std         0.176       0.049  \n",
       "min         0.000       0.000  \n",
       "25%         0.000       0.000  \n",
       "50%         0.000       0.000  \n",
       "75%         0.085       0.000  \n",
       "max         1.000       1.000  "
      ]
     },
     "execution_count": 32,
     "metadata": {},
     "output_type": "execute_result"
    }
   ],
   "source": [
    "rating_columns = ['rating', 'funny', 'wow', 'sad', 'likes', 'disagree', \n",
    "                  'toxicity', 'severe_toxicity', 'obscene', 'sexual_explicit', \n",
    "                  'identity_attack', 'insult', 'threat']\n",
    "jigsaw_df[rating_columns].describe()"
   ]
  },
  {
   "cell_type": "code",
   "execution_count": 64,
   "metadata": {},
   "outputs": [
    {
     "name": "stdout",
     "output_type": "stream",
     "text": [
      "Number rated 'severe_toxicity' but not rated toxic: 0\n",
      "Number rated 'obscene' but not rated toxic: 3349\n",
      "Number rated 'sexual_explicit' but not rated toxic: 3966\n",
      "Number rated 'identity_attack' but not rated toxic: 9453\n",
      "Number rated 'insult' but not rated toxic: 9005\n",
      "Number rated 'threat' but not rated toxic: 4864\n"
     ]
    }
   ],
   "source": [
    "col_names = ['severe_toxicity', 'obscene', 'sexual_explicit', 'identity_attack', 'insult', 'threat']\n",
    "for col in col_names:\n",
    "    crit = (jigsaw_df[col] > 0) & (jigsaw_df['toxicity'] == 0)\n",
    "    print(f\"Number rated '{col}' but not rated toxic: {sum(crit)}\")"
   ]
  },
  {
   "cell_type": "markdown",
   "metadata": {},
   "source": [
    "This suggests that we need to look at the other categories and decide whether to include those types of statements in our target as well."
   ]
  },
  {
   "cell_type": "code",
   "execution_count": 107,
   "metadata": {},
   "outputs": [],
   "source": [
    "def inspect_ratings(col_name, thresh_list=[0, 0.25, 0.50, 0.75, 0.99]):\n",
    "    g = sns.histplot(x=jigsaw_df[col_name], bins=20)\n",
    "    plt.ticklabel_format(style='plain', axis='y');\n",
    "\n",
    "    for thresh in thresh_list:\n",
    "        crit = jigsaw_df[col_name] >= thresh\n",
    "        print(f\"{col_name} rating {thresh} \\n{len(jigsaw_df[crit])} comments above this threshold\")\n",
    "        for example in range(0,2):\n",
    "            print(f\"Example {example+1}: \", \n",
    "                  jigsaw_df[crit].sort_values(by=[col_name])['comment_text'].iloc[example:example+1].values)\n",
    "        print(\"\\n\\n\\n\")\n",
    "    return g\n"
   ]
  },
  {
   "cell_type": "code",
   "execution_count": 108,
   "metadata": {},
   "outputs": [
    {
     "name": "stdout",
     "output_type": "stream",
     "text": [
      "toxicity rating 0 \n",
      "1999516 comments above this threshold\n",
      "Example 1:  ['This is NOT a nation of just one ethnicity.  The U.S. Constitution protects all of different ethnicity and race.  The old Kingdom even had peoples of different ethnicity and race as citizens, so why racial separatism now?']\n",
      "Example 2:  [\"Give people time to experience the new carbon tax and they'll have a chance to find out whether or not it make a significant difference to climate change. If it does, then it's a good thing because climate control is something we are not able to do yet. Lets assume it does work. Does that mean that climate will be yet another issue the political parties have to include in their electoral platforms. Will Liberals be for more radical changes than Conservatives and will the NDP tie climate to their socialist agenda, the Green Party a climate that increases the growing season and expands the polar ice pack and the Bloc, a climate that emphasizes Quebec's differences? Politics could become a lot more interesting if this is so.\"]\n",
      "\n",
      "\n",
      "\n",
      "\n",
      "toxicity rating 0.25 \n",
      "297167 comments above this threshold\n",
      "Example 1:  [\"It's a good example of how people can be sucked up by mob mentality.  HAARP is another good example of that.\"]\n",
      "Example 2:  ['... and tattered filthy disrespected flags flying from the beds of their trucks.  Hatriotism on parade!!!']\n",
      "\n",
      "\n",
      "\n",
      "\n",
      "toxicity rating 0.5 \n",
      "159782 comments above this threshold\n",
      "Example 1:  ['Your statements just prove how ignorant and ill-informed you are. You are correct about 30 years of lying, but it was Hillary. And 30 years of changing her position on literally every issue. And 30 years of blaming everyone else and the \"right wing conspiracy\". And 17 years of taking every dollar possible since Bill left office (and now charging for her book tour--why doesn\\'t she donate all proceeds to a girl\\'s fund?). And then she stole the primary from Bernie. America is ready for a female President--just NOT her and her lies/corruption. She\\'s all about herself. And everyone, except her blind sheep, know it.']\n",
      "Example 2:  [\"No, but since he's a pathological liar I don't believe anything he says. That's just common sense. And yes, he's a businessman; one who's filed for bankruptcy 6 times on the backs of his employees, vendors and contractors who dudntbget paud, while he continued to live like a king. His big talent is screwing people like you over.\"]\n",
      "\n",
      "\n",
      "\n",
      "\n",
      "toxicity rating 0.75 \n",
      "42520 comments above this threshold\n",
      "Example 1:  [\"Why is Trump a fool? What makes him so bad? I'm not being an ass maybe I missed something in the news or maybe you know something I don't about him. Honesty I just despised hillary for her stupidity in allowing fellow Americans to die in benghazi and all of her lies about almost everything.\"]\n",
      "Example 2:  [\"The Democrats and rational Republicans in congress need to grab hold of the foreign policy and immigration reins.  I have no problem with Mr. Twit wanting to do the right thing and continue protecting America's safety.  That's a no brainer, but you don't turn foreign policy reins over to a pompous bigot/racist idiot.\"]\n",
      "\n",
      "\n",
      "\n",
      "\n",
      "toxicity rating 0.99 \n",
      "4897 comments above this threshold\n",
      "Example 1:  ['Black are pathetic garbage worldwide!  See Africa!']\n",
      "Example 2:  ['JUST REMOVE the DOG PENIS FROM HER MOUTH and GIVE IT TO BARRY the MUSLUM BACK DOOR BOY\\nTHEM PROGRESSIVES LOVE SEX WITH DOGS--NIGERS and MONKEYS\\nLITTLE BLAK BARRY PROVED HIS SLUT MAMMY HAD SEX WITH DOGS and MONKEYS']\n",
      "\n",
      "\n",
      "\n",
      "\n"
     ]
    },
    {
     "data": {
      "image/png": "[encoded data removed]",
      "text/plain": [
       "<Figure size 432x288 with 1 Axes>"
      ]
     },
     "metadata": {
      "needs_background": "light"
     },
     "output_type": "display_data"
    }
   ],
   "source": [
    "g = inspect_ratings('toxicity')"
   ]
  },
  {
   "cell_type": "markdown",
   "metadata": {},
   "source": [
    "**Threshold of 0.50** seems appropriate for `toxicity`, to detect comments that are generally considered toxic."
   ]
  },
  {
   "cell_type": "code",
   "execution_count": 109,
   "metadata": {},
   "outputs": [
    {
     "name": "stdout",
     "output_type": "stream",
     "text": [
      "severe_toxicity rating 0 \n",
      "1999516 comments above this threshold\n",
      "Example 1:  ['This is NOT a nation of just one ethnicity.  The U.S. Constitution protects all of different ethnicity and race.  The old Kingdom even had peoples of different ethnicity and race as citizens, so why racial separatism now?']\n",
      "Example 2:  ['Religion of any type does not belong in public schools . With regard to Islam , in Britain it has devolved to the point where Muslim children are allowed to leave school on Friday to attend the neighbourhood mosque.\\nHeed the old saying \" To see Canada in 20 years , look to Britain today \".']\n",
      "\n",
      "\n",
      "\n",
      "\n",
      "severe_toxicity rating 0.01 \n",
      "115525 comments above this threshold\n",
      "Example 1:  ['If rural residents want what the liberals offer, then perhaps they should vote for democrats in greater numbers. But nope - they keep voting for republicans while their quality of life continues to plummet and their youth move to the cities where jobs are more plentiful, and yet keep putting the blame on democrats for all their problems. \\n\\nI refuse to reward stupidity.']\n",
      "Example 2:  ['Absolutely, this morning I killed a bowl of serial (SP) myself!']\n",
      "\n",
      "\n",
      "\n",
      "\n",
      "severe_toxicity rating 0.1 \n",
      "56366 comments above this threshold\n",
      "Example 1:  ['I think it is great what Trump is doing. That is why I voted for him. Next he needs to stop terrorist latins from entering the U.S.']\n",
      "Example 2:  ['Any links to support your bigoted Christianophobic claims?']\n",
      "\n",
      "\n",
      "\n",
      "\n",
      "severe_toxicity rating 0.25 \n",
      "657 comments above this threshold\n",
      "Example 1:  [\"U can rape all the women so long as they're not black. Just make sure U come home before bedtime.\"]\n",
      "Example 2:  [\"A con man who brags about sexually assaulting women, who brags about barging in uninvited on teens and women in dressing rooms, who mocks and makes fun of the handicapped, who mocks and denigrates Gold Star families, who is an admitted xenophobe, and who has not one day of experience in public service and who thinks climate change is a Chinese hoax, this guy is chosen by a minority of Americans and he promptly installs a white nationalist as advisor, a guy who is all that and who has several other despicable characteristics, and Michael Carey mentions none of it.\\n\\nAnd then Carey has the gall to say Trump is a pundit with the expertise to understand this election.\\n\\nThis after Trump has stated he thought he'd lose.  This after Trump said he was surprised he won.\\n\\nWe will live in a post-truth age as long as the media ignores their responsibility as journalists to abide my some ethics and mores.\\n\\nMr Carey should be ashamed.\\n\\n.\"]\n",
      "\n",
      "\n",
      "\n",
      "\n",
      "severe_toxicity rating 0.5 \n",
      "13 comments above this threshold\n",
      "Example 1:  ['\"immiserate\": transitive verb, meaning to make miserable.\\n\\nDarn those Chinese and their inscrutable justice system! Imagine making accused spies feel miserable. You\\'d never see America or Canada doing that.']\n",
      "Example 2:  ['i am just sorry that khadr didnt get a bullet in the head before he blew the head off that innocent father because his islamic boogie skywizard told him to.']\n",
      "\n",
      "\n",
      "\n",
      "\n"
     ]
    },
    {
     "data": {
      "image/png": "[encoded data removed]",
      "text/plain": [
       "<Figure size 432x288 with 1 Axes>"
      ]
     },
     "metadata": {
      "needs_background": "light"
     },
     "output_type": "display_data"
    }
   ],
   "source": [
    "g = inspect_ratings('severe_toxicity', [0, 0.01, 0.10, 0.25, 0.50])"
   ]
  },
  {
   "cell_type": "markdown",
   "metadata": {},
   "source": [
    "**Threshold of 0.10** seems appropriate for `severe_toxicity`. \n",
    "\n",
    "I might want to add this threshold for `severe_toxicity` *in addition* to the criterion for `toxicity`. This will help me make sure not to miss comments that single individuals might consider extremely toxic, even if there isn't a general consensus that the comment might be toxic."
   ]
  },
  {
   "cell_type": "code",
   "execution_count": 110,
   "metadata": {},
   "outputs": [
    {
     "name": "stdout",
     "output_type": "stream",
     "text": [
      "obscene rating 0 \n",
      "1999516 comments above this threshold\n",
      "Example 1:  ['This is NOT a nation of just one ethnicity.  The U.S. Constitution protects all of different ethnicity and race.  The old Kingdom even had peoples of different ethnicity and race as citizens, so why racial separatism now?']\n",
      "Example 2:  [\"Thanks for the fairytale chicken little. We all heard that same line of nonsenses before Colorado, Washington, and Oregon legalized it. I hate to break it to you, but the sky didn't fall. In fact, the laws have been a smashing success.\"]\n",
      "\n",
      "\n",
      "\n",
      "\n",
      "obscene rating 0.01 \n",
      "162625 comments above this threshold\n",
      "Example 1:  ['They all deserve to die, too bad we can stone them in town square.']\n",
      "Example 2:  ['The US Dept. of Energy has an obligation to retrieve this balloon and the synthetic line from the ocean.  We already have enough plastic dumped into our oceans.  Numerous birds and turtles are being choked by plastic- and whales are ensnared by ropes.\\n\\nDr. Ernest Moniz is the Sec. of Energy- appointed by Obama.  Take charge- clean your garbage up.']\n",
      "\n",
      "\n",
      "\n",
      "\n",
      "obscene rating 0.1 \n",
      "125389 comments above this threshold\n",
      "Example 1:  [\"I'm sorry, but I don't get how that's racist.  Brazeau IS a member of the indigenous community and he DOES fancy himself to be a tough guy.... and, for those who understand the definition of the word, he IS a perfect foil to the rather effeminate-looking, soft-spoken urbanite Trudeau.\\n\\nTrudeau didn't call Brazeau stupid, nor did his statement reflect a desire to humiliate a member of the indigenous community. He was looking to fight a bully and Brazeau volunteered. His heritage had nothing to do with it.\\n\\nBelieve it or not, there are actually real reasons to criticize Trudeau's term as PM... but this is simply noise, and it detracts from legitimate criticism.\"]\n",
      "Example 2:  [\"Both groups are responsible. If someone calls you a name do you think it's okay to destroy property in response? Violence leads to violence.\\n\\nAnd only one person rammed the car into a crowd of people, horribly and in no way was it acceptable, but again, it was one purely evil person, and not a group. We can already condemn them for racist beliefs and anti-American pursuits or activities. Think of it this way, the stain is a murderer who will additionally pay for racism being the root of his actions.\"]\n",
      "\n",
      "\n",
      "\n",
      "\n",
      "obscene rating 0.25 \n",
      "25585 comments above this threshold\n",
      "Example 1:  [\"It's fake crap created by nutters. Think about it. If it was real Fox News would be all over it.\"]\n",
      "Example 2:  [\"<I think the issues like birth control, homosexuality, divorce and remarriage are too important NOT to leave them to the successors of the apostles.>\\nBut the church has moved on. Nobody, or almost nobody, knows or cares what these guys think about human sexuality.  I'm not even arguing that that's a good thing; but it's a true thing.  By failing to attend to the contributions of scholarship, history and experience, the bishops have forfeited their right to be taken seriously on these issues.\\nThe interesting thing is that their teaching on social issues is received more favorably precisely because it is proposed more humbly; nobody threatens someone with eternal damnation for opposing the social teaching of the church -- but masturbation gets you a ticket to hell. Preposterous.  No reasonable person believes that, but the church teaches it.\"]\n",
      "\n",
      "\n",
      "\n",
      "\n",
      "obscene rating 0.5 \n",
      "10671 comments above this threshold\n",
      "Example 1:  ['People can\\'t just get along with their lives. Every day he does things to hurt people. \\n\\nIf you\\'re transgender and in the military, he\\'s trying to ruin your life. \\nIf you were brought to this country as a child, he\\'s trying to deport you. \\nIf you\\'re afraid of police brutality, he\\'s arming the police to terrorize you even more.\\nIf you need medical care, he\\'s taking away your health coverage.\\nIf you care about democracy in America, he\\'s trying to consolidate power to himself and his unelected family.\\nIf you are afraid of nuclear war, he\\'s threatening to start one with North Korea every other day.\\nIf you care about your right to vote, he\\'s setting up a commission designed to suppress votes, and conspiring with a foreign government to influence our elections.\\nIf you are concerned about white supremacists, he tells you they are \"very fine people.\"\\nIf you\\'re concerned about sexual assault, he tells you he can grab you buy the pussy and get away with it.\\n\\nA real American would fight back.']\n",
      "Example 2:  [\"Well, that's fabulous! \\nOur military will take you, decide what job you have and when and where to send you. God forbid you realize in the middle of combat overseas that you can't handle this lifestyle. Do the let you leave the military? Hell no, they charge you for being AWOL and send you to the brig! Name one employer who does this. Name one company that you can't say f#%* it and quit your job. This is how we treat our military. So we are ok with them going to war, seeing friends and family killed and blown up but they can't go get stoned on their day off? Do you have any idea how many people in the medical world use drugs to stay awake and alert for 36 hour shifts? How many LEO smoke dope? \\nBan the military? Then you had better ban anyone with a DWI, DUI, ever committed a crime or been to jail. I don't feel safe with those proven dangerous asshats being allowed to go to these festivals. Ban people on welfare, in shelters or rehab because they obviously can't handle it! What BS.\"]\n",
      "\n",
      "\n",
      "\n",
      "\n"
     ]
    },
    {
     "data": {
      "image/png": "[encoded data removed]",
      "text/plain": [
       "<Figure size 432x288 with 1 Axes>"
      ]
     },
     "metadata": {
      "needs_background": "light"
     },
     "output_type": "display_data"
    }
   ],
   "source": [
    "g = inspect_ratings('obscene', [0, 0.01, 0.10, 0.25, 0.50])"
   ]
  },
  {
   "cell_type": "markdown",
   "metadata": {},
   "source": [
    "I want to add a threshold for `obscene` ratings greater than or equal to 0.25, just to ensure that this type of comment doesn't slip through the gaps."
   ]
  },
  {
   "cell_type": "code",
   "execution_count": 111,
   "metadata": {},
   "outputs": [
    {
     "name": "stdout",
     "output_type": "stream",
     "text": [
      "sexual_explicit rating 0 \n",
      "1999516 comments above this threshold\n",
      "Example 1:  ['This is NOT a nation of just one ethnicity.  The U.S. Constitution protects all of different ethnicity and race.  The old Kingdom even had peoples of different ethnicity and race as citizens, so why racial separatism now?']\n",
      "Example 2:  [\"Thank you for this article, Mr. Wohlforth, and God bless you for your service, Mr. Ellis. I'm forwarding this article to my sister, Sandra Wicks -- your former teacher at Bartlett, I believe -- who is currently in Mexico and otherwise might miss it.\"]\n",
      "\n",
      "\n",
      "\n",
      "\n",
      "sexual_explicit rating 0.01 \n",
      "75559 comments above this threshold\n",
      "Example 1:  ['The whole article is a rant against \"white people\" who don\\'t \"recognize\" they are the scum of the earth, and need to grovel in apology for it, or else be labelled racists.']\n",
      "Example 2:  ['What these femanazis fail to realize is that President Trump has hired and cut paychecks to more women blacks latinos gays lesbians transgenders and muslims than all previous presidents combined.']\n",
      "\n",
      "\n",
      "\n",
      "\n",
      "sexual_explicit rating 0.1 \n",
      "56731 comments above this threshold\n",
      "Example 1:  [\"Really a shame that using the shortened version of Richard used by most Richards of the world is now considered so non-PC that I can't use it to address rhyner for fear of hurting his fee fees. Any man who retired from a union job/career who then has the unmitigated gall to attack the wages and benefits of his former brothers and sisters is a, oh hells bells no other word says it better, real dick.\"]\n",
      "Example 2:  ['Moderator bias for the Democrats for the debates again. No questions about Bengazi, emails or any of the issues she needs to answer. It\\'s like the time the moderator corrected the Republican candidate and softballs the Democrats. I am not sure who I will vote for but Clintons attacks on Bills accusers, and there were a lot of them tells me she is not a supporter of womans victims rights. Remember he \"Bimbo\" defense and her sluts and nuts comments? I do. But I notice no questions about Bill.']\n",
      "\n",
      "\n",
      "\n",
      "\n",
      "sexual_explicit rating 0.25 \n",
      "14922 comments above this threshold\n",
      "Example 1:  ['No.  It means you want it to.  Nice way to sugar-coat it.  Wanting it to rain is the same thing as wanting someone to be killed, eh?  Let\\'s try your logic using a different scenario:\\n\\n\"...If I say, \"I hope (your daughter gets raped),\" does that mean I intend to (rape your daughter)?\\n\\nOffending?  Absolutely.  Classless?  No doubt.  Borderline inciting violence?  Yep.  \\n\\nThere\\'s no excuse for what that idiot said.  I can\\'t stand Trump.  I wish he\\'d go away.  But, I\\'d never, ever seek unethical means to get rid of him.  That makes me no better than him, and possibly even worse.']\n",
      "Example 2:  ['??? the school sucks but we need to keep it around so they can continue to suck??? Let the better options fill up and grow, and UAA can sink or swim.']\n",
      "\n",
      "\n",
      "\n",
      "\n",
      "sexual_explicit rating 0.5 \n",
      "5127 comments above this threshold\n",
      "Example 1:  [\"I have not seen any hard number comparison between boys expelled versus girls raped. \\n\\nI'd expect that they skew away from the boys.  And how difficult is it to enroll in a new school compared to living a life post rape after the guy gets away with no charges?\"]\n",
      "Example 2:  [\"And taxpayers get screwed again.  The guilty cops got away with sexual harassment, got PAID time off if there was even an investigation, get their full pensions, and taxpayers pay their fines for them.  \\n\\nThe police union should be paying for this, NOT taxpayers.  Police couldn't care any less about being charged with things like sexual harassment...... they get a paid vacation and never have to pay a cent.  And this judge just confirmed their attitude is justified.\"]\n",
      "\n",
      "\n",
      "\n",
      "\n"
     ]
    },
    {
     "data": {
      "image/png": "[encoded data removed]",
      "text/plain": [
       "<Figure size 432x288 with 1 Axes>"
      ]
     },
     "metadata": {
      "needs_background": "light"
     },
     "output_type": "display_data"
    }
   ],
   "source": [
    "g = inspect_ratings('sexual_explicit', [0, 0.01, 0.10, 0.25, 0.50])"
   ]
  },
  {
   "cell_type": "markdown",
   "metadata": {},
   "source": [
    "I want to add a threshold for `sexual_explicit` ratings greater than or equal to 0.25, just to ensure that this type of comment doesn't slip through the gaps."
   ]
  },
  {
   "cell_type": "code",
   "execution_count": 112,
   "metadata": {},
   "outputs": [
    {
     "name": "stdout",
     "output_type": "stream",
     "text": [
      "identity_attack rating 0 \n",
      "1999516 comments above this threshold\n",
      "Example 1:  [\"He got his money... now he lies in wait till after the election in 2 yrs.... dirty politicians need to be afraid of Tar and feathers again... but they aren't and so the people get screwed.\"]\n",
      "Example 2:  [\"Spoken like a true Liberal shill...Morneau is in over his head in this job and it shows badly  A proper vetting process would've disqualified him from finance  but to Trudeau its more stylish to put some Bay Street flunky into the job to give the appearance of competence.\"]\n",
      "\n",
      "\n",
      "\n",
      "\n",
      "identity_attack rating 0.01 \n",
      "240942 comments above this threshold\n",
      "Example 1:  [\"I think the anger from the right-wing is overstated and besides it may not translate to votes for the Conservatives as they are clearly part of the establishment.\\n\\nIn any case it's pure speculation to assume what happened in the U.S. could happen here. We are nothing like what they are.\"]\n",
      "Example 2:  ['What an infantile, whiny, little megalomaniac.']\n",
      "\n",
      "\n",
      "\n",
      "\n",
      "identity_attack rating 0.1 \n",
      "201133 comments above this threshold\n",
      "Example 1:  ['I really wish the DP would bounce people trying to make a moral equivalence between Nazis and BLM. \\n\\n\\nThat kind of hateful BothSiderist garbage had got to stop. It\\'s not even funny any more. \\n\\n\\nActual Nazis are marching in this country and killing people. And the response of some is \"but the blahs\". And the DP allows such posts to stay up, and the posters to continue posting. \\n\\n\\nUgly.']\n",
      "Example 2:  [\"Well we are here LEGALLY and WE PAY TAXES so I don't see anything wrong with qualifying for assistance? I'm so tired of people marginalizing us and hiding behind their statistics. I'd take a blatant racist over you.\\n\\nHere's a fun fact though: as of 2015, Micronesians are no longer qualified for MedQuest unless they are determined ABD (aged, blind, disabled). Seeing as it is now federally mandated to have health insurance, we have no other choice but to purchase expensive private health insurance under the ACA. Someone with a zero income and who should be financially eligible for MedQuest is forced to pay premiums, deductibles, coinsurances and copayments all because of their CITIZENSHIP.\\n\\nMedQuest is funded by the taxes WE PAY, meaning, we are essentially paying for everyone else's health insurance BUT our own. Now tell me again... What were you were saying about reaping benefits at others' expense?\"]\n",
      "\n",
      "\n",
      "\n",
      "\n",
      "identity_attack rating 0.25 \n",
      "49718 comments above this threshold\n",
      "Example 1:  [\"Lol, i love when people talk like this, not raging at you gary, but. It shows how ignorant you are. You can't just become transgender. There is soooo much you have to do, and prove. Years, even decades can pass before everything is done.\"]\n",
      "Example 2:  ['It comes as no surprise that the malignant narcissist and mentally impoverished sociopath once again stamps himself as a certified bigot and repulsive racist. This decision will come back to seriously haunt him.']\n",
      "\n",
      "\n",
      "\n",
      "\n",
      "identity_attack rating 0.5 \n",
      "14761 comments above this threshold\n",
      "Example 1:  ['I don\\'t think I can picture Christ ever saying \"good riddance\" to anyone. I could see the Pharisees saying such. In fact, I cannot picture Christ passing judgement on anyone as the RCC has done through it\\'s teachings for the divorced and remarried, those on birth control, gay people and women in the church. \\n\\nI think there is plenty to discuss!']\n",
      "Example 2:  ['Oh it will change Mr. Scott.  My daughter isn\\'t going to live in a dystopian, male supremacist society. We women are going to TEAR THIS COUNTRY APART, starting with the churches, if the women-hating policies supported by the Right come to fruition. There will not be any kind of normal church life anymore. If Christians do not take their hands off women\\'s bodies we\\'re going to put our hands on their churches, not their physical churches mind you, rather on the area surrounding their churches that is public property. It will be an offensive carnival of condom distribution, sex education and general mayhem. There will be no peace anymore for them to partake in the activities that make up \"church.\" Their churches will become POLITICAL spheres. And we will work to take their rights away. Some will likely engage in violence which will be an unfortunate consequence of Christians forgetting their obligation to their fellow citizens. I guarantee it will be ugly and people will be armed.']\n",
      "\n",
      "\n",
      "\n",
      "\n"
     ]
    },
    {
     "data": {
      "image/png": "[encoded data removed]",
      "text/plain": [
       "<Figure size 432x288 with 1 Axes>"
      ]
     },
     "metadata": {
      "needs_background": "light"
     },
     "output_type": "display_data"
    }
   ],
   "source": [
    "g = inspect_ratings('identity_attack', [0, 0.01, 0.10, 0.25, 0.50])"
   ]
  },
  {
   "cell_type": "markdown",
   "metadata": {},
   "source": [
    "I want to add a threshold for `identity_attack` ratings greater than or equal to 0.25, just to ensure that this type of comment doesn't slip through the gaps."
   ]
  },
  {
   "cell_type": "code",
   "execution_count": 113,
   "metadata": {},
   "outputs": [
    {
     "name": "stdout",
     "output_type": "stream",
     "text": [
      "insult rating 0 \n",
      "1999516 comments above this threshold\n",
      "Example 1:  ['This is NOT a nation of just one ethnicity.  The U.S. Constitution protects all of different ethnicity and race.  The old Kingdom even had peoples of different ethnicity and race as citizens, so why racial separatism now?']\n",
      "Example 2:  ['\" Let countries make their own choices\". Who makes the choices - the people or the Presidents for Life.   Not that it would make much difference.  The continent is a basket case of incompetence and corruption.']\n",
      "\n",
      "\n",
      "\n",
      "\n",
      "insult rating 0.01 \n",
      "502900 comments above this threshold\n",
      "Example 1:  ['The only thing worse than a sales tax in Oregon is a regressive sales tax with no exemptions for food, medicine, or the other necessities of life needed  by the poor and those on fixed incomes.']\n",
      "Example 2:  ['Glaciers are advancing in Chile & Argentina. Time for the climate scientits to dig a little deeper, since they don\\'t \"get it\" yet.']\n",
      "\n",
      "\n",
      "\n",
      "\n",
      "insult rating 0.1 \n",
      "499008 comments above this threshold\n",
      "Example 1:  [\"Don't forget that Hillary Clinton voted to invade Iraq too. It wasn't just Dubyah driving the bus though he has to be considered the head cheerleader.\"]\n",
      "Example 2:  [\"Somebody cutting in front of me at Starbucks won't injure or kill me but someone cutting me off on the 401 might have much more serious consequences. That's the difference.\"]\n",
      "\n",
      "\n",
      "\n",
      "\n",
      "insult rating 0.25 \n",
      "231444 comments above this threshold\n",
      "Example 1:  ['fast or slow track,they get saucy they die.']\n",
      "Example 2:  ['Audi = German uber-junk.']\n",
      "\n",
      "\n",
      "\n",
      "\n",
      "insult rating 0.5 \n",
      "118079 comments above this threshold\n",
      "Example 1:  ['CS:  Actually you referenced \"Trump-haters\", not I.  I don\\'t \"hate\" Trump.  I do feel he\\'s a sociopath and a genuine danger to our country as President.  Hate is an emotional reaction....a visceral reaction, and not an rational response to a person\\'s actions.  I spent my teaching/counseling career working with dysfunctional adolescents...some of whom were clinically and legally defined as sociopaths.  I didn\\'t \"hate\" them.  However, I didn\\'t elect them to be President of the United States either.  IMO, Trump is a very disturbed and potentially a very dangerous man.  He should not be occupying the most powerful office in the world.  He is and it concerns me.  I think it\\'s also starting to concern more and more Americans.....regards, Gary Crum']\n",
      "Example 2:  [\"I come from a family in which every woman was an RN, and my Grandfather was the Chief of Surgery at the Royal Victoria Hospital, in Montreal, and a Holmes Gold Medallist, and I will tell you this much. I despise what the Canadian Medical System has become. We pay GP's over 160,000.00 CAD a year, and in many instances a lot more, to write prescriptions and order tests that have no value. They have no ability beyond their capacity to memorize. They have no diagnostic capacity, no intuition; they are arrogant and often so wrong that they harm their patients, sometimes seriously. My friends daughter was blinded by a hospital GP who refused to heed the warnings about a dangerous drug that he was treating with. I am going to vote Conservative for the first time in my life, in the next Ontario election, and I am going to make it my mission in life, to utterly destroy the comfortable little setup they have made for themselves. I would rather die than be treated by a Canadian doctor.\"]\n",
      "\n",
      "\n",
      "\n",
      "\n"
     ]
    },
    {
     "data": {
      "image/png": "[encoded data removed]",
      "text/plain": [
       "<Figure size 432x288 with 1 Axes>"
      ]
     },
     "metadata": {
      "needs_background": "light"
     },
     "output_type": "display_data"
    }
   ],
   "source": [
    "g = inspect_ratings('insult', [0, 0.01, 0.10, 0.25, 0.50])"
   ]
  },
  {
   "cell_type": "markdown",
   "metadata": {},
   "source": [
    "I want to add a threshold for `insult` ratings greater than or equal to 0.25, just to ensure that this type of comment doesn't slip through the gaps."
   ]
  },
  {
   "cell_type": "code",
   "execution_count": 114,
   "metadata": {},
   "outputs": [
    {
     "name": "stdout",
     "output_type": "stream",
     "text": [
      "threat rating 0 \n",
      "1999516 comments above this threshold\n",
      "Example 1:  ['This is NOT a nation of just one ethnicity.  The U.S. Constitution protects all of different ethnicity and race.  The old Kingdom even had peoples of different ethnicity and race as citizens, so why racial separatism now?']\n",
      "Example 2:  ['Actually, I do.  That remark, in context, was perfectly logical.\\n\\nYours, however, is not.  Trid is correct.']\n",
      "\n",
      "\n",
      "\n",
      "\n",
      "threat rating 0.01 \n",
      "117538 comments above this threshold\n",
      "Example 1:  ['The whole article is a rant against \"white people\" who don\\'t \"recognize\" they are the scum of the earth, and need to grovel in apology for it, or else be labelled racists.']\n",
      "Example 2:  ['a_r:  President Obama had 8 years to fulfill his campaign promise to get out of Afghanistan.  Instead he expanded the war into Syria.']\n",
      "\n",
      "\n",
      "\n",
      "\n",
      "threat rating 0.1 \n",
      "91811 comments above this threshold\n",
      "Example 1:  ['I do agree but anything from CNN. Fox CBS, nbc abc \\nNope narrative is Putin annexed violated all international rules and is a killer. \\nBibi wants peace and is securing peace and this is disputed land .']\n",
      "Example 2:  ['I live in OH. He\\'s strictly for the RICH if that\\'s what your looking for in a candidate. Ohio people hate him! He made big cuts to the disabled by putting an income limit on the homestead property qualification. But the \"wealthy\" who were already approved got to keep their homestead exemption. So if you become disabled in an auto accident that\\'s not even your fault and declared by Drs you can never work again. Kaisich has made it impossible to get approved with income guidelines so low and they even include your spouses income. So if you were working full time and cut to 1 salary, but depended on both salaries. He\\'s saying screw you and your family. Sell your home, uproot your kids and move to something cheaper you can afford on your now 1 income from your spouse . Too bad you were dealt a bad hand, he doesn\\'t care. He\\'s a horrible person! Picking on the disabled is as low as you can go! He\\'s a slimebag!']\n",
      "\n",
      "\n",
      "\n",
      "\n",
      "threat rating 0.25 \n",
      "15842 comments above this threshold\n",
      "Example 1:  ['If you look at the budgets that Obama has presented, you would have a much larger deficit.   His budget deficit has been helped quite a bit by having a Republican Congress.   This is something that he shared with Bill Clinton.   Gay marriage is continuing the process of destroying the family unit.  The same agenda is confusing our kids as far as whether or not they are male or female.   We are getting more mass shootings and more people associating with Radical Islam.']\n",
      "Example 2:  ['\"Germany has been killing Muslims since 9/11.\"\\n\\nUm, what?']\n",
      "\n",
      "\n",
      "\n",
      "\n",
      "threat rating 0.5 \n",
      "4725 comments above this threshold\n",
      "Example 1:  [\"A search with no reasonable basis to initiate same will not survive a Charter challenge.  Nothing to worry about here.\\n\\nYou there!  Stop!  Or we'll shoot.  Hand over your papers.\"]\n",
      "Example 2:  [\"Thank god! More wars! More drone strikes and finally someone who will eradicate the Middle East. Let's go to war with Hillary!\"]\n",
      "\n",
      "\n",
      "\n",
      "\n"
     ]
    },
    {
     "data": {
      "image/png": "[encoded data removed]",
      "text/plain": [
       "<Figure size 432x288 with 1 Axes>"
      ]
     },
     "metadata": {
      "needs_background": "light"
     },
     "output_type": "display_data"
    }
   ],
   "source": [
    "g = inspect_ratings('threat', [0, 0.01, 0.10, 0.25, 0.50])"
   ]
  },
  {
   "cell_type": "markdown",
   "metadata": {},
   "source": [
    "Personally, I felt like the `threat` ratings were less sensitive to the type of verbiage that might feel threatening to children and vulnerable groups. I will threshold these ratings at 0.1, to include more examples of this type of comment."
   ]
  },
  {
   "cell_type": "code",
   "execution_count": 88,
   "metadata": {},
   "outputs": [],
   "source": [
    "is_toxic = (jigsaw_df['toxicity'] >= 0.5) | (jigsaw_df['severe_toxicity'] >= 0.1) | \\\n",
    "            (jigsaw_df['obscene'] >= 0.25) | (jigsaw_df['sexual_explicit'] >= 0.25) | \\\n",
    "            (jigsaw_df['identity_attack'] >= 0.25) | (jigsaw_df['insult'] >= 0.25) | \\\n",
    "            (jigsaw_df['threat'] >= 0.10)"
   ]
  },
  {
   "cell_type": "code",
   "execution_count": 89,
   "metadata": {},
   "outputs": [
    {
     "name": "stdout",
     "output_type": "stream",
     "text": [
      "<class 'pandas.core.frame.DataFrame'>\n",
      "RangeIndex: 1999516 entries, 0 to 1999515\n",
      "Data columns (total 3 columns):\n",
      " #   Column        Non-Null Count    Dtype \n",
      "---  ------        --------------    ----- \n",
      " 0   id            1999516 non-null  int64 \n",
      " 1   comment_text  1999515 non-null  object\n",
      " 2   target        1999516 non-null  int64 \n",
      "dtypes: int64(2), object(1)\n",
      "memory usage: 45.8+ MB\n"
     ]
    }
   ],
   "source": [
    "new_target_df = pd.DataFrame()\n",
    "new_target_df[['id', 'comment_text']] = jigsaw_df[['id', 'comment_text']].copy()\n",
    "new_target_df['target'] = (is_toxic).astype(int)\n",
    "new_target_df.info(null_counts=True, memory_usage=True)"
   ]
  },
  {
   "cell_type": "code",
   "execution_count": 116,
   "metadata": {
    "scrolled": true
   },
   "outputs": [
    {
     "name": "stdout",
     "output_type": "stream",
     "text": [
      "Proportion of comments with 'toxicity' greater than 0.5: \t\t0.0799 \n",
      "Proportion of comments exceeding thresholds for multiple criteria: \t0.1692\n"
     ]
    },
    {
     "data": {
      "image/png": "[encoded data removed]",
      "text/plain": [
       "<Figure size 432x288 with 1 Axes>"
      ]
     },
     "metadata": {
      "needs_background": "light"
     },
     "output_type": "display_data"
    }
   ],
   "source": [
    "print(f\"Proportion of comments with 'toxicity' greater than 0.5: \\t\\t{(jigsaw_df['toxicity'] >= 0.5).mean():.4f}\",\n",
    "      f\"\\nProportion of comments exceeding thresholds for multiple criteria: \\t{is_toxic.mean():.4f}\")\n",
    "\n",
    "### Make a graph of the class imbalance\n",
    "g = sns.countplot(x=new_target_df['target'])\n",
    "g.set_xticklabels(['Not Bullying', 'Bullying'])\n",
    "plt.ticklabel_format(style='plain', axis='y');"
   ]
  },
  {
   "cell_type": "code",
   "execution_count": 90,
   "metadata": {},
   "outputs": [],
   "source": [
    "del jigsaw_df"
   ]
  }
 ],
 "metadata": {
  "kernelspec": {
   "display_name": "Python (learn-env)",
   "language": "python",
   "name": "learn-env"
  },
  "language_info": {
   "codemirror_mode": {
    "name": "ipython",
    "version": 3
   },
   "file_extension": ".py",
   "mimetype": "text/x-python",
   "name": "python",
   "nbconvert_exporter": "python",
   "pygments_lexer": "ipython3",
   "version": "3.8.5"
  },
  "toc": {
   "base_numbering": 1,
   "nav_menu": {},
   "number_sections": true,
   "sideBar": true,
   "skip_h1_title": false,
   "title_cell": "Table of Contents",
   "title_sidebar": "Contents",
   "toc_cell": false,
   "toc_position": {},
   "toc_section_display": true,
   "toc_window_display": false
  }
 },
 "nbformat": 4,
 "nbformat_minor": 4
}
