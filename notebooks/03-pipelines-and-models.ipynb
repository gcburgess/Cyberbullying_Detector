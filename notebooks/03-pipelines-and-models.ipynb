{
 "cells": [
  {
   "cell_type": "code",
   "execution_count": 37,
   "metadata": {},
   "outputs": [],
   "source": [
    "# Import standard packages\n",
    "import pandas as pd\n",
    "import numpy as np\n",
    "import matplotlib.pyplot as plt\n",
    "import seaborn as sns\n",
    "\n",
    "from sklearn.model_selection import train_test_split, cross_val_score, GridSearchCV\n",
    "from sklearn.utils import resample\n",
    "from sklearn.feature_extraction.text import CountVectorizer, TfidfVectorizer\n",
    "from sklearn.pipeline import Pipeline\n",
    "from sklearn.compose import ColumnTransformer\n",
    "from sklearn.dummy import DummyClassifier\n",
    "from sklearn.metrics import classification_report, f1_score, plot_confusion_matrix, confusion_matrix, ConfusionMatrixDisplay\n",
    "from sklearn.linear_model import LogisticRegression\n",
    "from sklearn.naive_bayes import MultinomialNB\n",
    "\n",
    "from nltk.corpus import stopwords, wordnet\n",
    "from nltk.stem import WordNetLemmatizer\n",
    "from nltk.tokenize import RegexpTokenizer\n",
    "from nltk import pos_tag, FreqDist\n",
    "\n",
    "from wordcloud import WordCloud\n",
    "\n",
    "import pickle\n",
    "\n",
    "pd.options.display.float_format = '{:.3f}'.format\n",
    "pd.options.display.max_columns = 50\n",
    "pd.options.display.max_colwidth = 300 # max width of a column\n",
    "\n",
    "# set random seed to ensure reproducible results\n",
    "np.random.seed(42)\n",
    "\n",
    "%matplotlib inline"
   ]
  },
  {
   "cell_type": "markdown",
   "metadata": {},
   "source": [
    "## Prepare data for modeling"
   ]
  },
  {
   "cell_type": "code",
   "execution_count": 2,
   "metadata": {
    "scrolled": true
   },
   "outputs": [
    {
     "data": {
      "text/html": [
       "<div>\n",
       "<style scoped>\n",
       "    .dataframe tbody tr th:only-of-type {\n",
       "        vertical-align: middle;\n",
       "    }\n",
       "\n",
       "    .dataframe tbody tr th {\n",
       "        vertical-align: top;\n",
       "    }\n",
       "\n",
       "    .dataframe thead th {\n",
       "        text-align: right;\n",
       "    }\n",
       "</style>\n",
       "<table border=\"1\" class=\"dataframe\">\n",
       "  <thead>\n",
       "    <tr style=\"text-align: right;\">\n",
       "      <th></th>\n",
       "      <th>id</th>\n",
       "      <th>comment_text</th>\n",
       "      <th>target</th>\n",
       "    </tr>\n",
       "  </thead>\n",
       "  <tbody>\n",
       "    <tr>\n",
       "      <th>0</th>\n",
       "      <td>6130267</td>\n",
       "      <td>I don't think I would be acting like a tough guy in front of my kid with a bat if the other guy had a gun.doesn't seem like much of a fight to me,but then most people don't bring bats to gun fights</td>\n",
       "      <td>1</td>\n",
       "    </tr>\n",
       "    <tr>\n",
       "      <th>1</th>\n",
       "      <td>6120855</td>\n",
       "      <td>The Left will always defends scum like this, as long as their politics are \"correct\".  \\n\\nYet, Democrats and the Left are the ones that claim to want to defend women's rights ... the truth tells a far different story.</td>\n",
       "      <td>1</td>\n",
       "    </tr>\n",
       "    <tr>\n",
       "      <th>2</th>\n",
       "      <td>6233267</td>\n",
       "      <td>I think they will be fighting Hawaiian, Alaska/Virgin America, Delta, United , American Airlines for gate space during peak times at HNL. They all use or will be using medium size aircraft and fight with Wide bodies during this period. State is retrofitting  the diamond head concourse for Island...</td>\n",
       "      <td>1</td>\n",
       "    </tr>\n",
       "    <tr>\n",
       "      <th>3</th>\n",
       "      <td>452907</td>\n",
       "      <td>Bad:  As pepper spray does not threaten serious bodily harm, nor a reasonable possibility of death, you would probably be prosecuted for use of unjustifiable deadly force.  And I was relieved to see you describe yourself as an \"ex-cop\".  I would be fearful of having to deal with you if you were ...</td>\n",
       "      <td>1</td>\n",
       "    </tr>\n",
       "    <tr>\n",
       "      <th>4</th>\n",
       "      <td>5494517</td>\n",
       "      <td>The fascist movements that threaten us is these twisted ugly leftist hate groups trying to destroy democracy and freedom of religion and freedom of speech disguised as liberalism?.\\nYou accept no other opinion but your own.\\nYou would destroy freedom instead of admitting you are wrong.\\nWe are t...</td>\n",
       "      <td>1</td>\n",
       "    </tr>\n",
       "  </tbody>\n",
       "</table>\n",
       "</div>"
      ],
      "text/plain": [
       "        id  \\\n",
       "0  6130267   \n",
       "1  6120855   \n",
       "2  6233267   \n",
       "3   452907   \n",
       "4  5494517   \n",
       "\n",
       "                                                                                                                                                                                                                                                                                                  comment_text  \\\n",
       "0                                                                                                        I don't think I would be acting like a tough guy in front of my kid with a bat if the other guy had a gun.doesn't seem like much of a fight to me,but then most people don't bring bats to gun fights   \n",
       "1                                                                                   The Left will always defends scum like this, as long as their politics are \"correct\".  \\n\\nYet, Democrats and the Left are the ones that claim to want to defend women's rights ... the truth tells a far different story.   \n",
       "2  I think they will be fighting Hawaiian, Alaska/Virgin America, Delta, United , American Airlines for gate space during peak times at HNL. They all use or will be using medium size aircraft and fight with Wide bodies during this period. State is retrofitting  the diamond head concourse for Island...   \n",
       "3  Bad:  As pepper spray does not threaten serious bodily harm, nor a reasonable possibility of death, you would probably be prosecuted for use of unjustifiable deadly force.  And I was relieved to see you describe yourself as an \"ex-cop\".  I would be fearful of having to deal with you if you were ...   \n",
       "4  The fascist movements that threaten us is these twisted ugly leftist hate groups trying to destroy democracy and freedom of religion and freedom of speech disguised as liberalism?.\\nYou accept no other opinion but your own.\\nYou would destroy freedom instead of admitting you are wrong.\\nWe are t...   \n",
       "\n",
       "   target  \n",
       "0       1  \n",
       "1       1  \n",
       "2       1  \n",
       "3       1  \n",
       "4       1  "
      ]
     },
     "execution_count": 2,
     "metadata": {},
     "output_type": "execute_result"
    }
   ],
   "source": [
    "train_df = pd.read_csv('../data/train_df.csv')\n",
    "train_df.head()"
   ]
  },
  {
   "cell_type": "code",
   "execution_count": 3,
   "metadata": {
    "scrolled": true
   },
   "outputs": [
    {
     "data": {
      "text/plain": [
       "id              0\n",
       "comment_text    0\n",
       "target          0\n",
       "dtype: int64"
      ]
     },
     "execution_count": 3,
     "metadata": {},
     "output_type": "execute_result"
    }
   ],
   "source": [
    "train_df.isna().sum()"
   ]
  },
  {
   "cell_type": "code",
   "execution_count": 4,
   "metadata": {},
   "outputs": [
    {
     "data": {
      "text/plain": [
       "1    338409\n",
       "0    338409\n",
       "Name: target, dtype: int64"
      ]
     },
     "execution_count": 4,
     "metadata": {},
     "output_type": "execute_result"
    }
   ],
   "source": [
    "train_df['target'].value_counts()"
   ]
  },
  {
   "cell_type": "code",
   "execution_count": 5,
   "metadata": {},
   "outputs": [
    {
     "data": {
      "text/plain": [
       "0    10000\n",
       "1    10000\n",
       "Name: target, dtype: int64"
      ]
     },
     "execution_count": 5,
     "metadata": {},
     "output_type": "execute_result"
    }
   ],
   "source": [
    "# start with small subset of sample to test preprocessing steps\n",
    "minority_df = train_df[train_df['target']==1]\n",
    "majority_df = train_df[train_df['target']==0]\n",
    "\n",
    "majority_small_df = resample(majority_df,\n",
    "                             replace=False,\n",
    "                             n_samples=10000,\n",
    "                             random_state=42)\n",
    "\n",
    "minority_small_df = resample(minority_df,\n",
    "                             replace=False,\n",
    "                             n_samples=10000,\n",
    "                             random_state=42)\n",
    "\n",
    "train_df = pd.concat([majority_small_df, minority_small_df])\n",
    "train_df['target'].value_counts()"
   ]
  },
  {
   "cell_type": "markdown",
   "metadata": {},
   "source": [
    "### Complete row-wise data cleaning and transformations"
   ]
  },
  {
   "cell_type": "markdown",
   "metadata": {},
   "source": [
    "#### Set up functions for preprocessing"
   ]
  },
  {
   "cell_type": "code",
   "execution_count": 6,
   "metadata": {},
   "outputs": [],
   "source": [
    "def get_wordnet_pos(treebank_tag):\n",
    "    '''\n",
    "    Translate nltk POS to wordnet tags\n",
    "    '''\n",
    "    if treebank_tag.startswith('J'):\n",
    "        return wordnet.ADJ\n",
    "    elif treebank_tag.startswith('V'):\n",
    "        return wordnet.VERB\n",
    "    elif treebank_tag.startswith('N'):\n",
    "        return wordnet.NOUN\n",
    "    elif treebank_tag.startswith('R'):\n",
    "        return wordnet.ADV\n",
    "    else:\n",
    "        return wordnet.NOUN"
   ]
  },
  {
   "cell_type": "code",
   "execution_count": 7,
   "metadata": {},
   "outputs": [],
   "source": [
    "# Added 'us' to stopwords, because the lemmatizer reduces it to 'u'\n",
    "sw = stopwords.words('english') + ['us']\n",
    "\n",
    "def word_processor(comment, stopword_list=sw):\n",
    "    # tokenize (simultaneously removes punctuation)\n",
    "    tokenizer = RegexpTokenizer(pattern=\"([a-zA-Z]+(?:'[a-z]+)?)\")\n",
    "    words = tokenizer.tokenize(comment)\n",
    "\n",
    "    # lowercase and remove stopwords\n",
    "    words = [word.lower() for word in words if word.lower() not in stopword_list]\n",
    "    \n",
    "    # lemmatize (accounting for part of speech)\n",
    "    lemmatizer = WordNetLemmatizer()\n",
    "    words = [lemmatizer.lemmatize(word[0], get_wordnet_pos(word[1])) \n",
    "             for word in pos_tag(words)]\n",
    "\n",
    "    return ' '.join(words)"
   ]
  },
  {
   "cell_type": "code",
   "execution_count": 8,
   "metadata": {},
   "outputs": [
    {
     "name": "stdout",
     "output_type": "stream",
     "text": [
      "CPU times: user 31.7 s, sys: 403 ms, total: 32.1 s\n",
      "Wall time: 32.3 s\n"
     ]
    }
   ],
   "source": [
    "%%time\n",
    "train_df['proc_text'] = train_df['comment_text'].map(word_processor)"
   ]
  },
  {
   "cell_type": "code",
   "execution_count": 9,
   "metadata": {},
   "outputs": [
    {
     "data": {
      "text/html": [
       "<div>\n",
       "<style scoped>\n",
       "    .dataframe tbody tr th:only-of-type {\n",
       "        vertical-align: middle;\n",
       "    }\n",
       "\n",
       "    .dataframe tbody tr th {\n",
       "        vertical-align: top;\n",
       "    }\n",
       "\n",
       "    .dataframe thead th {\n",
       "        text-align: right;\n",
       "    }\n",
       "</style>\n",
       "<table border=\"1\" class=\"dataframe\">\n",
       "  <thead>\n",
       "    <tr style=\"text-align: right;\">\n",
       "      <th></th>\n",
       "      <th>id</th>\n",
       "      <th>comment_text</th>\n",
       "      <th>target</th>\n",
       "      <th>proc_text</th>\n",
       "    </tr>\n",
       "  </thead>\n",
       "  <tbody>\n",
       "    <tr>\n",
       "      <th>612832</th>\n",
       "      <td>272570</td>\n",
       "      <td>My Liberal Democrat friends always say they have more intelligence than the average Republican and can govern better.  Well here is your chance.  It is easy to make money in a bull market, show us how smart you are in a bear one.  Show us how the liberal, progressive mind can improve Anchorage u...</td>\n",
       "      <td>0</td>\n",
       "      <td>liberal democrat friend always say intelligence average republican govern well well chance easy make money bull market show smart bear one show liberal progressive mind improve anchorage use dime tax</td>\n",
       "    </tr>\n",
       "    <tr>\n",
       "      <th>645974</th>\n",
       "      <td>5794439</td>\n",
       "      <td>Thug Gardens would be a better name these days. Ironically it is Elitche's extremely affordable season passes that make it a magnet for teenage thieves - and their victims. I find it hard to believe the park does not have video cameras which would catch most thefts. I also find it hard to believ...</td>\n",
       "      <td>0</td>\n",
       "      <td>thug garden would better name day ironically elitche's extremely affordable season pass make magnet teenage thief victim find hard believe park video camera would catch theft also find hard believe park security would able apprehend thief guess figure lose backpack punishment pay locker fee</td>\n",
       "    </tr>\n",
       "    <tr>\n",
       "      <th>601073</th>\n",
       "      <td>636665</td>\n",
       "      <td>Good Luck with Trans Mountain.  Somehow I don't see 400 Super Tankers a year traveling under the Lions Gate and Second Narrow bridges anytime soon.  In other news more Tesla Super charging stations were just installed in Alberta and BC.  There's progress.</td>\n",
       "      <td>0</td>\n",
       "      <td>good luck trans mountain somehow see super tanker year travel lion gate second narrow bridge anytime soon news tesla super charge station instal alberta bc there's progress</td>\n",
       "    </tr>\n",
       "    <tr>\n",
       "      <th>669327</th>\n",
       "      <td>1049406</td>\n",
       "      <td>Not again.  Obviously doesn't have the body for this sport.  Time to look for another occupation.</td>\n",
       "      <td>0</td>\n",
       "      <td>obviously body sport time look another occupation</td>\n",
       "    </tr>\n",
       "    <tr>\n",
       "      <th>549234</th>\n",
       "      <td>461725</td>\n",
       "      <td>Some of those are pretty long-winded questions for a televised debate.  Can you sum them up into two sentences each?  Otherwise they just come across as editorializing.</td>\n",
       "      <td>0</td>\n",
       "      <td>pretty long winded question televise debate sum two sentence otherwise come across editorialize</td>\n",
       "    </tr>\n",
       "  </tbody>\n",
       "</table>\n",
       "</div>"
      ],
      "text/plain": [
       "             id  \\\n",
       "612832   272570   \n",
       "645974  5794439   \n",
       "601073   636665   \n",
       "669327  1049406   \n",
       "549234   461725   \n",
       "\n",
       "                                                                                                                                                                                                                                                                                                       comment_text  \\\n",
       "612832  My Liberal Democrat friends always say they have more intelligence than the average Republican and can govern better.  Well here is your chance.  It is easy to make money in a bull market, show us how smart you are in a bear one.  Show us how the liberal, progressive mind can improve Anchorage u...   \n",
       "645974  Thug Gardens would be a better name these days. Ironically it is Elitche's extremely affordable season passes that make it a magnet for teenage thieves - and their victims. I find it hard to believe the park does not have video cameras which would catch most thefts. I also find it hard to believ...   \n",
       "601073                                              Good Luck with Trans Mountain.  Somehow I don't see 400 Super Tankers a year traveling under the Lions Gate and Second Narrow bridges anytime soon.  In other news more Tesla Super charging stations were just installed in Alberta and BC.  There's progress.   \n",
       "669327                                                                                                                                                                                                            Not again.  Obviously doesn't have the body for this sport.  Time to look for another occupation.   \n",
       "549234                                                                                                                                     Some of those are pretty long-winded questions for a televised debate.  Can you sum them up into two sentences each?  Otherwise they just come across as editorializing.   \n",
       "\n",
       "        target  \\\n",
       "612832       0   \n",
       "645974       0   \n",
       "601073       0   \n",
       "669327       0   \n",
       "549234       0   \n",
       "\n",
       "                                                                                                                                                                                                                                                                                                  proc_text  \n",
       "612832                                                                                              liberal democrat friend always say intelligence average republican govern well well chance easy make money bull market show smart bear one show liberal progressive mind improve anchorage use dime tax  \n",
       "645974  thug garden would better name day ironically elitche's extremely affordable season pass make magnet teenage thief victim find hard believe park video camera would catch theft also find hard believe park security would able apprehend thief guess figure lose backpack punishment pay locker fee  \n",
       "601073                                                                                                                         good luck trans mountain somehow see super tanker year travel lion gate second narrow bridge anytime soon news tesla super charge station instal alberta bc there's progress  \n",
       "669327                                                                                                                                                                                                                                                    obviously body sport time look another occupation  \n",
       "549234                                                                                                                                                                                                      pretty long winded question televise debate sum two sentence otherwise come across editorialize  "
      ]
     },
     "execution_count": 9,
     "metadata": {},
     "output_type": "execute_result"
    }
   ],
   "source": [
    "train_df.head()"
   ]
  },
  {
   "cell_type": "markdown",
   "metadata": {},
   "source": [
    "## Set up train-test split and pipelines"
   ]
  },
  {
   "cell_type": "code",
   "execution_count": 10,
   "metadata": {},
   "outputs": [],
   "source": [
    "y = train_df['target']\n",
    "X = train_df['proc_text']\n",
    "\n",
    "X_train, X_test, y_train, y_test = train_test_split(X, y, stratify=y, random_state=42)#, test_size=100000)"
   ]
  },
  {
   "cell_type": "code",
   "execution_count": 11,
   "metadata": {
    "scrolled": true
   },
   "outputs": [
    {
     "name": "stdout",
     "output_type": "stream",
     "text": [
      "<class 'pandas.core.series.Series'>\n",
      "Int64Index: 15000 entries, 557679 to 505090\n",
      "Series name: proc_text\n",
      "Non-Null Count  Dtype \n",
      "--------------  ----- \n",
      "15000 non-null  object\n",
      "dtypes: object(1)\n",
      "memory usage: 234.4+ KB\n"
     ]
    }
   ],
   "source": [
    "X_train.info()"
   ]
  },
  {
   "cell_type": "markdown",
   "metadata": {},
   "source": [
    "### Preprocessing pipeline"
   ]
  },
  {
   "cell_type": "markdown",
   "metadata": {},
   "source": [
    "Need to set up pipeline to perform preprocessing steps to each split of the data"
   ]
  },
  {
   "cell_type": "code",
   "execution_count": 12,
   "metadata": {},
   "outputs": [],
   "source": [
    "subpipe_text = Pipeline(steps=[\n",
    "    ('cv', CountVectorizer())\n",
    "])"
   ]
  },
  {
   "cell_type": "code",
   "execution_count": 13,
   "metadata": {},
   "outputs": [],
   "source": [
    "# cv2 = CountVectorizer()\n",
    "# cv2.fit_transform(X_train['proc_text'])"
   ]
  },
  {
   "cell_type": "markdown",
   "metadata": {},
   "source": [
    "#### Verify that ColumnTransformer works\n",
    "- Ensure that there are no NaN values introduced\n",
    "- Check min and max values (using describe)"
   ]
  },
  {
   "cell_type": "code",
   "execution_count": 15,
   "metadata": {},
   "outputs": [],
   "source": [
    "tmp = subpipe_text.fit_transform(X_train)"
   ]
  },
  {
   "cell_type": "code",
   "execution_count": 16,
   "metadata": {},
   "outputs": [
    {
     "data": {
      "text/plain": [
       "<15000x26332 sparse matrix of type '<class 'numpy.int64'>'\n",
       "\twith 355450 stored elements in Compressed Sparse Row format>"
      ]
     },
     "execution_count": 16,
     "metadata": {},
     "output_type": "execute_result"
    }
   ],
   "source": [
    "tmp"
   ]
  },
  {
   "cell_type": "code",
   "execution_count": 17,
   "metadata": {},
   "outputs": [],
   "source": [
    "tmp_df = pd.DataFrame(data=tmp.toarray(), columns = subpipe_text.named_steps['cv'].get_feature_names_out())"
   ]
  },
  {
   "cell_type": "code",
   "execution_count": 18,
   "metadata": {},
   "outputs": [
    {
     "data": {
      "text/plain": [
       "(15000, 26332)"
      ]
     },
     "execution_count": 18,
     "metadata": {},
     "output_type": "execute_result"
    }
   ],
   "source": [
    "tmp_df.shape"
   ]
  },
  {
   "cell_type": "code",
   "execution_count": 19,
   "metadata": {},
   "outputs": [
    {
     "name": "stdout",
     "output_type": "stream",
     "text": [
      "Number of nulls: 0\n"
     ]
    }
   ],
   "source": [
    "print(f\"Number of nulls: {tmp_df.isna().sum().sum()}\")\n",
    "#display(tmp_df.describe())"
   ]
  },
  {
   "cell_type": "code",
   "execution_count": 20,
   "metadata": {},
   "outputs": [],
   "source": [
    "# Specify scoring method that will be used to evaluate all models\n",
    "scoring=\"f1\""
   ]
  },
  {
   "cell_type": "code",
   "execution_count": 21,
   "metadata": {},
   "outputs": [],
   "source": [
    "### Using this class (From Flatiron School Lecture 51) to conduct cross-validation, store, and display results\n",
    "\n",
    "class ModelWithCV():\n",
    "    '''Structure to save the model and more easily see its crossvalidation'''\n",
    "    \n",
    "    def __init__(self, model, model_name, X, y, cv_now=True, scoring=\"accuracy\"):\n",
    "        self.model = model\n",
    "        self.name = model_name\n",
    "        self.X = X\n",
    "        self.y = y\n",
    "        # For CV results\n",
    "        self.cv_results = None\n",
    "        self.cv_mean = None\n",
    "        self.cv_median = None\n",
    "        self.cv_std = None\n",
    "        #\n",
    "        if cv_now:\n",
    "            self.cross_validate()\n",
    "        \n",
    "    def cross_validate(self, X=None, y=None, kfolds=10):\n",
    "        '''\n",
    "        Perform cross-validation and return results.\n",
    "        \n",
    "        Args: \n",
    "          X:\n",
    "            Optional; Training data to perform CV on. Otherwise use X from object\n",
    "          y:\n",
    "            Optional; Training data to perform CV on. Otherwise use y from object\n",
    "          kfolds:\n",
    "            Optional; Number of folds for CV (default is 10)  \n",
    "        '''\n",
    "        \n",
    "        cv_X = X if X else self.X\n",
    "        cv_y = y if y else self.y\n",
    "\n",
    "        self.cv_results = cross_val_score(self.model, cv_X, cv_y, cv=kfolds, scoring=scoring)\n",
    "        self.cv_mean = np.mean(self.cv_results)\n",
    "        self.cv_median = np.median(self.cv_results)\n",
    "        self.cv_std = np.std(self.cv_results)\n",
    "\n",
    "        \n",
    "    def print_cv_summary(self):\n",
    "        cv_summary = (\n",
    "        f'''CV Results for `{self.name}` model:\n",
    "            {self.cv_mean:.5f} ± {self.cv_std:.5f} {scoring}\n",
    "        ''')\n",
    "        print(cv_summary)\n",
    "\n",
    "        \n",
    "    def plot_cv(self, ax):\n",
    "        '''\n",
    "        Plot the cross-validation values using the array of results and given \n",
    "        Axis for plotting.\n",
    "        '''\n",
    "        ax.set_title(f'CV Results for `{self.name}` Model')\n",
    "        # Thinner violinplot with higher bw\n",
    "        sns.violinplot(y=self.cv_results, ax=ax, bw=.4)\n",
    "        sns.swarmplot(\n",
    "                y=self.cv_results,\n",
    "                color='orange',\n",
    "                size=10,\n",
    "                alpha= 0.8,\n",
    "                ax=ax\n",
    "        )\n",
    "\n",
    "        return ax"
   ]
  },
  {
   "cell_type": "code",
   "execution_count": 23,
   "metadata": {},
   "outputs": [],
   "source": [
    "dummy_model_pipe = Pipeline(steps=[\n",
    "    ('subpipe_text',subpipe_text),\n",
    "    ('dum_class', DummyClassifier(strategy='most_frequent'))\n",
    "])\n",
    "dummy_cv = ModelWithCV(dummy_model_pipe, model_name='dummy_model_pipe', X=X_train, y=y_train, scoring=scoring)"
   ]
  },
  {
   "cell_type": "code",
   "execution_count": 24,
   "metadata": {},
   "outputs": [
    {
     "name": "stdout",
     "output_type": "stream",
     "text": [
      "CV Results for `dummy_model_pipe` model:\n",
      "            0.00000 ± 0.00000 f1\n",
      "        \n"
     ]
    },
    {
     "data": {
      "image/png": "[encoded data removed]",
      "text/plain": [
       "<Figure size 432x288 with 1 Axes>"
      ]
     },
     "metadata": {
      "needs_background": "light"
     },
     "output_type": "display_data"
    }
   ],
   "source": [
    "dummy_cv.print_cv_summary()\n",
    "fig, ax = plt.subplots()\n",
    "\n",
    "dummy_cv.plot_cv(ax=ax);"
   ]
  },
  {
   "cell_type": "code",
   "execution_count": 42,
   "metadata": {},
   "outputs": [
    {
     "name": "stdout",
     "output_type": "stream",
     "text": [
      "              precision    recall  f1-score   support\n",
      "\n",
      "           0       0.50      1.00      0.67      7500\n",
      "           1       0.00      0.00      0.00      7500\n",
      "\n",
      "    accuracy                           0.50     15000\n",
      "   macro avg       0.25      0.50      0.33     15000\n",
      "weighted avg       0.25      0.50      0.33     15000\n",
      "\n"
     ]
    },
    {
     "data": {
      "image/png": "[encoded data removed]",
      "text/plain": [
       "<Figure size 432x288 with 2 Axes>"
      ]
     },
     "metadata": {
      "needs_background": "light"
     },
     "output_type": "display_data"
    }
   ],
   "source": [
    "# getting predictions\n",
    "dummy_model_pipe.fit(X=X_train, y=y_train)\n",
    "y_pred = dummy_model_pipe.predict(X_train)\n",
    "\n",
    "# print the classification report to see model metrics\n",
    "print(classification_report(y_train, y_pred, zero_division=0))\n",
    "\n",
    "labels=dummy_model_pipe.classes_\n",
    "cm = confusion_matrix(y_train, y_pred, labels=labels)\n",
    "disp = ConfusionMatrixDisplay(confusion_matrix=cm,\n",
    "                              display_labels=labels)\n",
    "disp.plot();"
   ]
  },
  {
   "cell_type": "code",
   "execution_count": null,
   "metadata": {},
   "outputs": [],
   "source": []
  },
  {
   "cell_type": "code",
   "execution_count": null,
   "metadata": {},
   "outputs": [],
   "source": []
  },
  {
   "cell_type": "code",
   "execution_count": 33,
   "metadata": {},
   "outputs": [],
   "source": [
    "logreg_model_pipe = Pipeline(steps=[\n",
    "    ('subpipe_text',subpipe_text),\n",
    "    ('logreg', LogisticRegression(max_iter=10000))\n",
    "])\n",
    "logreg_defaults_cv = ModelWithCV(logreg_model_pipe, model_name='logreg_defaults_model_pipe', \n",
    "                                 X=X_train, y=y_train, scoring=scoring)"
   ]
  },
  {
   "cell_type": "code",
   "execution_count": 34,
   "metadata": {},
   "outputs": [
    {
     "name": "stdout",
     "output_type": "stream",
     "text": [
      "CV Results for `logreg_defaults_model_pipe` model:\n",
      "            0.72587 ± 0.00928 f1\n",
      "        \n"
     ]
    },
    {
     "data": {
      "image/png": "[encoded data removed]",
      "text/plain": [
       "<Figure size 432x288 with 1 Axes>"
      ]
     },
     "metadata": {
      "needs_background": "light"
     },
     "output_type": "display_data"
    }
   ],
   "source": [
    "logreg_defaults_cv.print_cv_summary()\n",
    "fig, ax = plt.subplots()\n",
    "\n",
    "logreg_defaults_cv.plot_cv(ax=ax);"
   ]
  },
  {
   "cell_type": "code",
   "execution_count": 43,
   "metadata": {},
   "outputs": [
    {
     "name": "stdout",
     "output_type": "stream",
     "text": [
      "              precision    recall  f1-score   support\n",
      "\n",
      "           0       0.94      0.97      0.95      7500\n",
      "           1       0.97      0.93      0.95      7500\n",
      "\n",
      "    accuracy                           0.95     15000\n",
      "   macro avg       0.95      0.95      0.95     15000\n",
      "weighted avg       0.95      0.95      0.95     15000\n",
      "\n"
     ]
    },
    {
     "data": {
      "image/png": "[encoded data removed]",
      "text/plain": [
       "<Figure size 432x288 with 2 Axes>"
      ]
     },
     "metadata": {
      "needs_background": "light"
     },
     "output_type": "display_data"
    }
   ],
   "source": [
    "logreg_model_pipe.fit(X_train, y_train)\n",
    "y_pred = logreg_model_pipe.predict(X_train)\n",
    "\n",
    "# print the classification report to see model metrics\n",
    "print(classification_report(y_train, y_pred, zero_division=0))\n",
    "\n",
    "labels=logreg_model_pipe.classes_\n",
    "cm = confusion_matrix(y_train, y_pred, labels=labels)\n",
    "disp = ConfusionMatrixDisplay(confusion_matrix=cm,\n",
    "                              display_labels=labels)\n",
    "disp.plot();"
   ]
  },
  {
   "cell_type": "code",
   "execution_count": 44,
   "metadata": {},
   "outputs": [],
   "source": [
    "mnb_model_pipe = Pipeline(steps=[\n",
    "    ('subpipe_text',subpipe_text),\n",
    "    ('mnb', MultinomialNB())\n",
    "])\n",
    "mnb_cv = ModelWithCV(mnb_model_pipe, model_name='mnb_model_pipe', \n",
    "                                 X=X_train, y=y_train, scoring=scoring)"
   ]
  },
  {
   "cell_type": "code",
   "execution_count": 45,
   "metadata": {},
   "outputs": [
    {
     "name": "stdout",
     "output_type": "stream",
     "text": [
      "CV Results for `mnb_model_pipe` model:\n",
      "            0.72677 ± 0.00936 f1\n",
      "        \n"
     ]
    },
    {
     "data": {
      "image/png": "[encoded data removed]",
      "text/plain": [
       "<Figure size 432x288 with 1 Axes>"
      ]
     },
     "metadata": {
      "needs_background": "light"
     },
     "output_type": "display_data"
    }
   ],
   "source": [
    "mnb_cv.print_cv_summary()\n",
    "fig, ax = plt.subplots()\n",
    "\n",
    "mnb_cv.plot_cv(ax=ax);"
   ]
  },
  {
   "cell_type": "code",
   "execution_count": 46,
   "metadata": {},
   "outputs": [
    {
     "name": "stdout",
     "output_type": "stream",
     "text": [
      "              precision    recall  f1-score   support\n",
      "\n",
      "           0       0.89      0.79      0.84      7500\n",
      "           1       0.81      0.90      0.85      7500\n",
      "\n",
      "    accuracy                           0.85     15000\n",
      "   macro avg       0.85      0.85      0.84     15000\n",
      "weighted avg       0.85      0.85      0.84     15000\n",
      "\n"
     ]
    },
    {
     "data": {
      "image/png": "[encoded data removed]",
      "text/plain": [
       "<Figure size 432x288 with 2 Axes>"
      ]
     },
     "metadata": {
      "needs_background": "light"
     },
     "output_type": "display_data"
    }
   ],
   "source": [
    "mnb_model_pipe.fit(X_train, y_train)\n",
    "y_pred = mnb_model_pipe.predict(X_train)\n",
    "\n",
    "# print the classification report to see model metrics\n",
    "print(classification_report(y_train, y_pred, zero_division=0))\n",
    "\n",
    "labels=mnb_model_pipe.classes_\n",
    "cm = confusion_matrix(y_train, y_pred, labels=labels)\n",
    "disp = ConfusionMatrixDisplay(confusion_matrix=cm,\n",
    "                              display_labels=labels)\n",
    "disp.plot();"
   ]
  },
  {
   "cell_type": "code",
   "execution_count": null,
   "metadata": {},
   "outputs": [],
   "source": []
  }
 ],
 "metadata": {
  "kernelspec": {
   "display_name": "Python (nlp-env)",
   "language": "python",
   "name": "nlp-env"
  },
  "language_info": {
   "codemirror_mode": {
    "name": "ipython",
    "version": 3
   },
   "file_extension": ".py",
   "mimetype": "text/x-python",
   "name": "python",
   "nbconvert_exporter": "python",
   "pygments_lexer": "ipython3",
   "version": "3.10.4"
  },
  "toc": {
   "base_numbering": 1,
   "nav_menu": {},
   "number_sections": true,
   "sideBar": true,
   "skip_h1_title": false,
   "title_cell": "Table of Contents",
   "title_sidebar": "Contents",
   "toc_cell": false,
   "toc_position": {},
   "toc_section_display": true,
   "toc_window_display": false
  }
 },
 "nbformat": 4,
 "nbformat_minor": 5
}
