{
 "cells": [
  {
   "cell_type": "code",
   "execution_count": 1,
   "metadata": {},
   "outputs": [],
   "source": [
    "# Import standard packages\n",
    "import pandas as pd\n",
    "import numpy as np\n",
    "import matplotlib.pyplot as plt\n",
    "import seaborn as sns\n",
    "\n",
    "from sklearn.model_selection import train_test_split, cross_val_score, cross_val_predict, GridSearchCV\n",
    "from sklearn.utils import resample\n",
    "from sklearn.feature_extraction.text import CountVectorizer, TfidfVectorizer\n",
    "from sklearn.pipeline import Pipeline\n",
    "from sklearn.compose import ColumnTransformer\n",
    "from sklearn.dummy import DummyClassifier\n",
    "from sklearn.metrics import classification_report, f1_score, plot_confusion_matrix, confusion_matrix, ConfusionMatrixDisplay\n",
    "from sklearn.linear_model import LogisticRegression\n",
    "from sklearn.naive_bayes import MultinomialNB\n",
    "\n",
    "from nltk.corpus import stopwords, wordnet\n",
    "from nltk.stem import WordNetLemmatizer\n",
    "from nltk.tokenize import RegexpTokenizer\n",
    "from nltk import pos_tag, FreqDist\n",
    "\n",
    "from wordcloud import WordCloud\n",
    "\n",
    "import pickle\n",
    "\n",
    "pd.options.display.float_format = '{:.3f}'.format\n",
    "pd.options.display.max_columns = 50\n",
    "pd.options.display.max_colwidth = 300 # max width of a column\n",
    "\n",
    "# set random seed to ensure reproducible results\n",
    "np.random.seed(42)\n",
    "\n",
    "%matplotlib inline"
   ]
  },
  {
   "cell_type": "markdown",
   "metadata": {},
   "source": [
    "## Prepare data for modeling"
   ]
  },
  {
   "cell_type": "code",
   "execution_count": 2,
   "metadata": {
    "scrolled": true
   },
   "outputs": [
    {
     "data": {
      "text/html": [
       "<div>\n",
       "<style scoped>\n",
       "    .dataframe tbody tr th:only-of-type {\n",
       "        vertical-align: middle;\n",
       "    }\n",
       "\n",
       "    .dataframe tbody tr th {\n",
       "        vertical-align: top;\n",
       "    }\n",
       "\n",
       "    .dataframe thead th {\n",
       "        text-align: right;\n",
       "    }\n",
       "</style>\n",
       "<table border=\"1\" class=\"dataframe\">\n",
       "  <thead>\n",
       "    <tr style=\"text-align: right;\">\n",
       "      <th></th>\n",
       "      <th>id</th>\n",
       "      <th>comment_text</th>\n",
       "      <th>target</th>\n",
       "    </tr>\n",
       "  </thead>\n",
       "  <tbody>\n",
       "    <tr>\n",
       "      <th>0</th>\n",
       "      <td>6130267</td>\n",
       "      <td>I don't think I would be acting like a tough guy in front of my kid with a bat if the other guy had a gun.doesn't seem like much of a fight to me,but then most people don't bring bats to gun fights</td>\n",
       "      <td>1</td>\n",
       "    </tr>\n",
       "    <tr>\n",
       "      <th>1</th>\n",
       "      <td>6120855</td>\n",
       "      <td>The Left will always defends scum like this, as long as their politics are \"correct\".  \\n\\nYet, Democrats and the Left are the ones that claim to want to defend women's rights ... the truth tells a far different story.</td>\n",
       "      <td>1</td>\n",
       "    </tr>\n",
       "    <tr>\n",
       "      <th>2</th>\n",
       "      <td>6233267</td>\n",
       "      <td>I think they will be fighting Hawaiian, Alaska/Virgin America, Delta, United , American Airlines for gate space during peak times at HNL. They all use or will be using medium size aircraft and fight with Wide bodies during this period. State is retrofitting  the diamond head concourse for Island...</td>\n",
       "      <td>1</td>\n",
       "    </tr>\n",
       "    <tr>\n",
       "      <th>3</th>\n",
       "      <td>452907</td>\n",
       "      <td>Bad:  As pepper spray does not threaten serious bodily harm, nor a reasonable possibility of death, you would probably be prosecuted for use of unjustifiable deadly force.  And I was relieved to see you describe yourself as an \"ex-cop\".  I would be fearful of having to deal with you if you were ...</td>\n",
       "      <td>1</td>\n",
       "    </tr>\n",
       "    <tr>\n",
       "      <th>4</th>\n",
       "      <td>5494517</td>\n",
       "      <td>The fascist movements that threaten us is these twisted ugly leftist hate groups trying to destroy democracy and freedom of religion and freedom of speech disguised as liberalism?.\\nYou accept no other opinion but your own.\\nYou would destroy freedom instead of admitting you are wrong.\\nWe are t...</td>\n",
       "      <td>1</td>\n",
       "    </tr>\n",
       "  </tbody>\n",
       "</table>\n",
       "</div>"
      ],
      "text/plain": [
       "        id  \\\n",
       "0  6130267   \n",
       "1  6120855   \n",
       "2  6233267   \n",
       "3   452907   \n",
       "4  5494517   \n",
       "\n",
       "                                                                                                                                                                                                                                                                                                  comment_text  \\\n",
       "0                                                                                                        I don't think I would be acting like a tough guy in front of my kid with a bat if the other guy had a gun.doesn't seem like much of a fight to me,but then most people don't bring bats to gun fights   \n",
       "1                                                                                   The Left will always defends scum like this, as long as their politics are \"correct\".  \\n\\nYet, Democrats and the Left are the ones that claim to want to defend women's rights ... the truth tells a far different story.   \n",
       "2  I think they will be fighting Hawaiian, Alaska/Virgin America, Delta, United , American Airlines for gate space during peak times at HNL. They all use or will be using medium size aircraft and fight with Wide bodies during this period. State is retrofitting  the diamond head concourse for Island...   \n",
       "3  Bad:  As pepper spray does not threaten serious bodily harm, nor a reasonable possibility of death, you would probably be prosecuted for use of unjustifiable deadly force.  And I was relieved to see you describe yourself as an \"ex-cop\".  I would be fearful of having to deal with you if you were ...   \n",
       "4  The fascist movements that threaten us is these twisted ugly leftist hate groups trying to destroy democracy and freedom of religion and freedom of speech disguised as liberalism?.\\nYou accept no other opinion but your own.\\nYou would destroy freedom instead of admitting you are wrong.\\nWe are t...   \n",
       "\n",
       "   target  \n",
       "0       1  \n",
       "1       1  \n",
       "2       1  \n",
       "3       1  \n",
       "4       1  "
      ]
     },
     "execution_count": 2,
     "metadata": {},
     "output_type": "execute_result"
    }
   ],
   "source": [
    "train_df = pd.read_csv('../data/train_df.csv')\n",
    "train_df.head()"
   ]
  },
  {
   "cell_type": "code",
   "execution_count": 3,
   "metadata": {
    "scrolled": true
   },
   "outputs": [
    {
     "data": {
      "text/plain": [
       "id              0\n",
       "comment_text    0\n",
       "target          0\n",
       "dtype: int64"
      ]
     },
     "execution_count": 3,
     "metadata": {},
     "output_type": "execute_result"
    }
   ],
   "source": [
    "train_df.isna().sum()"
   ]
  },
  {
   "cell_type": "code",
   "execution_count": 4,
   "metadata": {},
   "outputs": [
    {
     "data": {
      "text/plain": [
       "1    338409\n",
       "0    338409\n",
       "Name: target, dtype: int64"
      ]
     },
     "execution_count": 4,
     "metadata": {},
     "output_type": "execute_result"
    }
   ],
   "source": [
    "train_df['target'].value_counts()"
   ]
  },
  {
   "cell_type": "code",
   "execution_count": 5,
   "metadata": {},
   "outputs": [],
   "source": [
    "# # start with small subset of sample to test preprocessing steps\n",
    "# minority_df = train_df[train_df['target']==1]\n",
    "# majority_df = train_df[train_df['target']==0]\n",
    "\n",
    "# majority_small_df = resample(majority_df,\n",
    "#                              replace=False,\n",
    "#                              n_samples=10000,\n",
    "#                              random_state=42)\n",
    "\n",
    "# minority_small_df = resample(minority_df,\n",
    "#                              replace=False,\n",
    "#                              n_samples=10000,\n",
    "#                              random_state=42)\n",
    "\n",
    "# train_df = pd.concat([majority_small_df, minority_small_df])\n",
    "# train_df['target'].value_counts()"
   ]
  },
  {
   "cell_type": "markdown",
   "metadata": {},
   "source": [
    "### Complete row-wise data cleaning and transformations"
   ]
  },
  {
   "cell_type": "markdown",
   "metadata": {},
   "source": [
    "#### Set up functions for preprocessing"
   ]
  },
  {
   "cell_type": "code",
   "execution_count": 6,
   "metadata": {},
   "outputs": [],
   "source": [
    "def get_wordnet_pos(treebank_tag):\n",
    "    '''\n",
    "    Translate nltk POS to wordnet tags\n",
    "    '''\n",
    "    if treebank_tag.startswith('J'):\n",
    "        return wordnet.ADJ\n",
    "    elif treebank_tag.startswith('V'):\n",
    "        return wordnet.VERB\n",
    "    elif treebank_tag.startswith('N'):\n",
    "        return wordnet.NOUN\n",
    "    elif treebank_tag.startswith('R'):\n",
    "        return wordnet.ADV\n",
    "    else:\n",
    "        return wordnet.NOUN"
   ]
  },
  {
   "cell_type": "code",
   "execution_count": 7,
   "metadata": {},
   "outputs": [],
   "source": [
    "# Added 'us' to stopwords, because the lemmatizer reduces it to 'u'\n",
    "sw = stopwords.words('english') + ['us']\n",
    "\n",
    "def word_processor(comment, stopword_list=sw):\n",
    "    # tokenize (simultaneously removes punctuation)\n",
    "    tokenizer = RegexpTokenizer(pattern=\"([a-zA-Z]+(?:'[a-z]+)?)\")\n",
    "    words = tokenizer.tokenize(comment)\n",
    "\n",
    "    # lowercase and remove stopwords\n",
    "    words = [word.lower() for word in words if word.lower() not in stopword_list]\n",
    "    \n",
    "    # lemmatize (accounting for part of speech)\n",
    "    lemmatizer = WordNetLemmatizer()\n",
    "    words = [lemmatizer.lemmatize(word[0], get_wordnet_pos(word[1])) \n",
    "             for word in pos_tag(words)]\n",
    "\n",
    "    return ' '.join(words)"
   ]
  },
  {
   "cell_type": "code",
   "execution_count": 8,
   "metadata": {},
   "outputs": [
    {
     "name": "stdout",
     "output_type": "stream",
     "text": [
      "CPU times: user 17min 41s, sys: 12.3 s, total: 17min 53s\n",
      "Wall time: 18min\n"
     ]
    }
   ],
   "source": [
    "%%time\n",
    "train_df['proc_text'] = train_df['comment_text'].map(word_processor)"
   ]
  },
  {
   "cell_type": "code",
   "execution_count": 9,
   "metadata": {},
   "outputs": [
    {
     "data": {
      "text/html": [
       "<div>\n",
       "<style scoped>\n",
       "    .dataframe tbody tr th:only-of-type {\n",
       "        vertical-align: middle;\n",
       "    }\n",
       "\n",
       "    .dataframe tbody tr th {\n",
       "        vertical-align: top;\n",
       "    }\n",
       "\n",
       "    .dataframe thead th {\n",
       "        text-align: right;\n",
       "    }\n",
       "</style>\n",
       "<table border=\"1\" class=\"dataframe\">\n",
       "  <thead>\n",
       "    <tr style=\"text-align: right;\">\n",
       "      <th></th>\n",
       "      <th>id</th>\n",
       "      <th>comment_text</th>\n",
       "      <th>target</th>\n",
       "      <th>proc_text</th>\n",
       "    </tr>\n",
       "  </thead>\n",
       "  <tbody>\n",
       "    <tr>\n",
       "      <th>0</th>\n",
       "      <td>6130267</td>\n",
       "      <td>I don't think I would be acting like a tough guy in front of my kid with a bat if the other guy had a gun.doesn't seem like much of a fight to me,but then most people don't bring bats to gun fights</td>\n",
       "      <td>1</td>\n",
       "      <td>think would act like tough guy front kid bat guy gun seem like much fight people bring bat gun fight</td>\n",
       "    </tr>\n",
       "    <tr>\n",
       "      <th>1</th>\n",
       "      <td>6120855</td>\n",
       "      <td>The Left will always defends scum like this, as long as their politics are \"correct\".  \\n\\nYet, Democrats and the Left are the ones that claim to want to defend women's rights ... the truth tells a far different story.</td>\n",
       "      <td>1</td>\n",
       "      <td>leave always defend scum like long politics correct yet democrats left one claim want defend women's right truth tell far different story</td>\n",
       "    </tr>\n",
       "    <tr>\n",
       "      <th>2</th>\n",
       "      <td>6233267</td>\n",
       "      <td>I think they will be fighting Hawaiian, Alaska/Virgin America, Delta, United , American Airlines for gate space during peak times at HNL. They all use or will be using medium size aircraft and fight with Wide bodies during this period. State is retrofitting  the diamond head concourse for Island...</td>\n",
       "      <td>1</td>\n",
       "      <td>think fight hawaiian alaska virgin america delta united american airline gate space peak time hnl use use medium size aircraft fight wide body period state retrofit diamond head concourse island air would accommodate sw enter inter island market somebody pay island air go</td>\n",
       "    </tr>\n",
       "    <tr>\n",
       "      <th>3</th>\n",
       "      <td>452907</td>\n",
       "      <td>Bad:  As pepper spray does not threaten serious bodily harm, nor a reasonable possibility of death, you would probably be prosecuted for use of unjustifiable deadly force.  And I was relieved to see you describe yourself as an \"ex-cop\".  I would be fearful of having to deal with you if you were ...</td>\n",
       "      <td>1</td>\n",
       "      <td>bad pepper spray threaten serious bodily harm reasonable possibility death would probably prosecute use unjustifiable deadly force relieve see describe ex cop would fearful deal still force</td>\n",
       "    </tr>\n",
       "    <tr>\n",
       "      <th>4</th>\n",
       "      <td>5494517</td>\n",
       "      <td>The fascist movements that threaten us is these twisted ugly leftist hate groups trying to destroy democracy and freedom of religion and freedom of speech disguised as liberalism?.\\nYou accept no other opinion but your own.\\nYou would destroy freedom instead of admitting you are wrong.\\nWe are t...</td>\n",
       "      <td>1</td>\n",
       "      <td>fascist movement threaten twist ugly leftist hate group try destroy democracy freedom religion freedom speech disguise liberalism accept opinion would destroy freedom instead admit wrong try stop islamist take country culture way life get blow either age f u lefty fascism think gonna let destroy...</td>\n",
       "    </tr>\n",
       "  </tbody>\n",
       "</table>\n",
       "</div>"
      ],
      "text/plain": [
       "        id  \\\n",
       "0  6130267   \n",
       "1  6120855   \n",
       "2  6233267   \n",
       "3   452907   \n",
       "4  5494517   \n",
       "\n",
       "                                                                                                                                                                                                                                                                                                  comment_text  \\\n",
       "0                                                                                                        I don't think I would be acting like a tough guy in front of my kid with a bat if the other guy had a gun.doesn't seem like much of a fight to me,but then most people don't bring bats to gun fights   \n",
       "1                                                                                   The Left will always defends scum like this, as long as their politics are \"correct\".  \\n\\nYet, Democrats and the Left are the ones that claim to want to defend women's rights ... the truth tells a far different story.   \n",
       "2  I think they will be fighting Hawaiian, Alaska/Virgin America, Delta, United , American Airlines for gate space during peak times at HNL. They all use or will be using medium size aircraft and fight with Wide bodies during this period. State is retrofitting  the diamond head concourse for Island...   \n",
       "3  Bad:  As pepper spray does not threaten serious bodily harm, nor a reasonable possibility of death, you would probably be prosecuted for use of unjustifiable deadly force.  And I was relieved to see you describe yourself as an \"ex-cop\".  I would be fearful of having to deal with you if you were ...   \n",
       "4  The fascist movements that threaten us is these twisted ugly leftist hate groups trying to destroy democracy and freedom of religion and freedom of speech disguised as liberalism?.\\nYou accept no other opinion but your own.\\nYou would destroy freedom instead of admitting you are wrong.\\nWe are t...   \n",
       "\n",
       "   target  \\\n",
       "0       1   \n",
       "1       1   \n",
       "2       1   \n",
       "3       1   \n",
       "4       1   \n",
       "\n",
       "                                                                                                                                                                                                                                                                                                     proc_text  \n",
       "0                                                                                                                                                                                                         think would act like tough guy front kid bat guy gun seem like much fight people bring bat gun fight  \n",
       "1                                                                                                                                                                    leave always defend scum like long politics correct yet democrats left one claim want defend women's right truth tell far different story  \n",
       "2                             think fight hawaiian alaska virgin america delta united american airline gate space peak time hnl use use medium size aircraft fight wide body period state retrofit diamond head concourse island air would accommodate sw enter inter island market somebody pay island air go  \n",
       "3                                                                                                                bad pepper spray threaten serious bodily harm reasonable possibility death would probably prosecute use unjustifiable deadly force relieve see describe ex cop would fearful deal still force  \n",
       "4  fascist movement threaten twist ugly leftist hate group try destroy democracy freedom religion freedom speech disguise liberalism accept opinion would destroy freedom instead admit wrong try stop islamist take country culture way life get blow either age f u lefty fascism think gonna let destroy...  "
      ]
     },
     "execution_count": 9,
     "metadata": {},
     "output_type": "execute_result"
    }
   ],
   "source": [
    "train_df.head()"
   ]
  },
  {
   "cell_type": "markdown",
   "metadata": {},
   "source": [
    "## Set up train-test split and pipelines"
   ]
  },
  {
   "cell_type": "code",
   "execution_count": 10,
   "metadata": {},
   "outputs": [],
   "source": [
    "y = train_df['target']\n",
    "X = train_df['proc_text']\n",
    "\n",
    "X_train, X_test, y_train, y_test = train_test_split(X, y, stratify=y, random_state=42)#, test_size=100000)"
   ]
  },
  {
   "cell_type": "code",
   "execution_count": 11,
   "metadata": {
    "scrolled": true
   },
   "outputs": [
    {
     "name": "stdout",
     "output_type": "stream",
     "text": [
      "<class 'pandas.core.series.Series'>\n",
      "Int64Index: 507613 entries, 76097 to 619461\n",
      "Series name: proc_text\n",
      "Non-Null Count   Dtype \n",
      "--------------   ----- \n",
      "507613 non-null  object\n",
      "dtypes: object(1)\n",
      "memory usage: 7.7+ MB\n"
     ]
    }
   ],
   "source": [
    "X_train.info()"
   ]
  },
  {
   "cell_type": "markdown",
   "metadata": {},
   "source": [
    "### Preprocessing pipeline"
   ]
  },
  {
   "cell_type": "markdown",
   "metadata": {},
   "source": [
    "Need to set up pipeline to perform preprocessing steps to each split of the data"
   ]
  },
  {
   "cell_type": "code",
   "execution_count": 12,
   "metadata": {},
   "outputs": [],
   "source": [
    "subpipe_text = Pipeline(steps=[\n",
    "    ('cv', CountVectorizer())\n",
    "])"
   ]
  },
  {
   "cell_type": "markdown",
   "metadata": {},
   "source": [
    "### Prepare functions for cross-validation testing"
   ]
  },
  {
   "cell_type": "code",
   "execution_count": 13,
   "metadata": {},
   "outputs": [],
   "source": [
    "# Specify scoring method that will be used to evaluate all models\n",
    "scoring=\"f1\""
   ]
  },
  {
   "cell_type": "code",
   "execution_count": 14,
   "metadata": {},
   "outputs": [],
   "source": [
    "### Using this class (From Flatiron School Lecture 51) to conduct cross-validation, store, and display results\n",
    "\n",
    "class ModelWithCV():\n",
    "    '''Structure to save the model and more easily see its crossvalidation'''\n",
    "    \n",
    "    def __init__(self, model, model_name, X, y, cv_now=True, scoring=\"accuracy\"):\n",
    "        self.model = model\n",
    "        self.name = model_name\n",
    "        self.X = X\n",
    "        self.y = y\n",
    "        # For CV results\n",
    "        self.cv_results = None\n",
    "        self.cv_mean = None\n",
    "        self.cv_median = None\n",
    "        self.cv_std = None\n",
    "        self.cv_preds = None\n",
    "\n",
    "        #\n",
    "        if cv_now:\n",
    "            self.cross_validate()\n",
    "        \n",
    "    def cross_validate(self, X=None, y=None, kfolds=10):\n",
    "        '''\n",
    "        Perform cross-validation and return results.\n",
    "        \n",
    "        Args: \n",
    "          X:\n",
    "            Optional; Training data to perform CV on. Otherwise use X from object\n",
    "          y:\n",
    "            Optional; Training data to perform CV on. Otherwise use y from object\n",
    "          kfolds:\n",
    "            Optional; Number of folds for CV (default is 10)  \n",
    "        '''\n",
    "        \n",
    "        cv_X = X if X else self.X\n",
    "        cv_y = y if y else self.y\n",
    "\n",
    "        self.cv_results = cross_val_score(self.model, cv_X, cv_y, cv=kfolds, scoring=scoring)\n",
    "        self.cv_mean = np.mean(self.cv_results)\n",
    "        self.cv_median = np.median(self.cv_results)\n",
    "        self.cv_std = np.std(self.cv_results)\n",
    "\n",
    "        \n",
    "    def plot_cv_confusion_matrix(self, X=None, y=None, kfolds=10):\n",
    "        '''\n",
    "        Plot confusion matrix using predictions obtained by cross-validation (using cross_val_predict)\n",
    "        \n",
    "        Args: \n",
    "          X:\n",
    "            Optional; Training data to perform CV on. Otherwise use X from object\n",
    "          y:\n",
    "            Optional; Training data to perform CV on. Otherwise use y from object\n",
    "          kfolds:\n",
    "            Optional; Number of folds for CV (default is 10)  \n",
    "        '''\n",
    "        \n",
    "        cv_X = X if X else self.X\n",
    "        cv_y = y if y else self.y\n",
    "        \n",
    "        self.cv_preds = cross_val_predict(self.model, cv_X, cv_y, cv=kfolds)\n",
    "\n",
    "        #labels=self.model.classes_\n",
    "        labels=[0,1]\n",
    "        cm = confusion_matrix(cv_y, self.cv_preds, labels=labels)\n",
    "        disp = ConfusionMatrixDisplay(confusion_matrix=cm, display_labels=labels)\n",
    "        disp.plot();\n",
    "\n",
    "\n",
    "        \n",
    "    def print_cv_summary(self):\n",
    "        cv_summary = (\n",
    "        f'''CV Results for `{self.name}` model:\n",
    "            {self.cv_mean:.5f} ± {self.cv_std:.5f} {scoring}\n",
    "        ''')\n",
    "        print(cv_summary)\n",
    "\n",
    "        \n",
    "    def plot_cv(self, ax):\n",
    "        '''\n",
    "        Plot the cross-validation values using the array of results and given \n",
    "        Axis for plotting.\n",
    "        '''\n",
    "        ax.set_title(f'CV Results for `{self.name}` Model')\n",
    "        # Thinner violinplot with higher bw\n",
    "        sns.violinplot(y=self.cv_results, ax=ax, bw=.4)\n",
    "        sns.swarmplot(\n",
    "                y=self.cv_results,\n",
    "                color='orange',\n",
    "                size=10,\n",
    "                alpha= 0.8,\n",
    "                ax=ax\n",
    "        )\n",
    "\n",
    "        return ax"
   ]
  },
  {
   "cell_type": "code",
   "execution_count": 15,
   "metadata": {},
   "outputs": [],
   "source": [
    "dummy_model_pipe = Pipeline(steps=[\n",
    "    ('subpipe_text',subpipe_text),\n",
    "    ('dum_class', DummyClassifier(strategy='most_frequent'))\n",
    "])\n",
    "dummy_cv = ModelWithCV(dummy_model_pipe, model_name='dummy_model_pipe', X=X_train, y=y_train, scoring=scoring)"
   ]
  },
  {
   "cell_type": "code",
   "execution_count": 16,
   "metadata": {},
   "outputs": [
    {
     "name": "stdout",
     "output_type": "stream",
     "text": [
      "CV Results for `dummy_model_pipe` model:\n",
      "            0.40000 ± 0.32660 f1\n",
      "        \n"
     ]
    },
    {
     "data": {
      "image/png": "[encoded data removed]",
      "text/plain": [
       "<Figure size 432x288 with 1 Axes>"
      ]
     },
     "metadata": {
      "needs_background": "light"
     },
     "output_type": "display_data"
    }
   ],
   "source": [
    "dummy_cv.print_cv_summary()\n",
    "fig, ax = plt.subplots()\n",
    "\n",
    "dummy_cv.plot_cv(ax=ax);"
   ]
  },
  {
   "cell_type": "code",
   "execution_count": 17,
   "metadata": {},
   "outputs": [
    {
     "name": "stdout",
     "output_type": "stream",
     "text": [
      "              precision    recall  f1-score   support\n",
      "\n",
      "           0       0.50      0.40      0.44    253806\n",
      "           1       0.50      0.60      0.55    253807\n",
      "\n",
      "    accuracy                           0.50    507613\n",
      "   macro avg       0.50      0.50      0.49    507613\n",
      "weighted avg       0.50      0.50      0.49    507613\n",
      "\n"
     ]
    },
    {
     "data": {
      "image/png": "[encoded data removed]",
      "text/plain": [
       "<Figure size 432x288 with 2 Axes>"
      ]
     },
     "metadata": {
      "needs_background": "light"
     },
     "output_type": "display_data"
    }
   ],
   "source": [
    "dummy_cv.plot_cv_confusion_matrix();\n",
    "\n",
    "# print the classification report to see model metrics\n",
    "print(classification_report(y_train, dummy_cv.cv_preds, zero_division=0))"
   ]
  },
  {
   "cell_type": "code",
   "execution_count": null,
   "metadata": {},
   "outputs": [],
   "source": []
  },
  {
   "cell_type": "code",
   "execution_count": null,
   "metadata": {},
   "outputs": [],
   "source": []
  },
  {
   "cell_type": "code",
   "execution_count": 18,
   "metadata": {},
   "outputs": [],
   "source": [
    "logreg_model_pipe = Pipeline(steps=[\n",
    "    ('subpipe_text',subpipe_text),\n",
    "    ('logreg', LogisticRegression(max_iter=10000))\n",
    "])\n",
    "logreg_defaults_cv = ModelWithCV(logreg_model_pipe, model_name='logreg_defaults_model_pipe', \n",
    "                                 X=X_train, y=y_train, scoring=scoring)"
   ]
  },
  {
   "cell_type": "code",
   "execution_count": 19,
   "metadata": {},
   "outputs": [
    {
     "name": "stdout",
     "output_type": "stream",
     "text": [
      "CV Results for `logreg_defaults_model_pipe` model:\n",
      "            0.78495 ± 0.00113 f1\n",
      "        \n"
     ]
    },
    {
     "data": {
      "image/png": "[encoded data removed]",
      "text/plain": [
       "<Figure size 432x288 with 1 Axes>"
      ]
     },
     "metadata": {
      "needs_background": "light"
     },
     "output_type": "display_data"
    }
   ],
   "source": [
    "logreg_defaults_cv.print_cv_summary()\n",
    "\n",
    "fig, ax = plt.subplots()\n",
    "logreg_defaults_cv.plot_cv(ax=ax);"
   ]
  },
  {
   "cell_type": "code",
   "execution_count": 20,
   "metadata": {},
   "outputs": [
    {
     "name": "stdout",
     "output_type": "stream",
     "text": [
      "              precision    recall  f1-score   support\n",
      "\n",
      "           0       0.77      0.86      0.81    253806\n",
      "           1       0.84      0.74      0.78    253807\n",
      "\n",
      "    accuracy                           0.80    507613\n",
      "   macro avg       0.80      0.80      0.80    507613\n",
      "weighted avg       0.80      0.80      0.80    507613\n",
      "\n"
     ]
    },
    {
     "data": {
      "image/png": "[encoded data removed]",
      "text/plain": [
       "<Figure size 432x288 with 2 Axes>"
      ]
     },
     "metadata": {
      "needs_background": "light"
     },
     "output_type": "display_data"
    }
   ],
   "source": [
    "logreg_defaults_cv.plot_cv_confusion_matrix();\n",
    "\n",
    "# print the classification report to see model metrics\n",
    "print(classification_report(y_train, logreg_defaults_cv.cv_preds, zero_division=0))"
   ]
  },
  {
   "cell_type": "code",
   "execution_count": null,
   "metadata": {},
   "outputs": [],
   "source": []
  },
  {
   "cell_type": "code",
   "execution_count": 21,
   "metadata": {},
   "outputs": [],
   "source": [
    "params = {\n",
    "    'subpipe_text__cv__ngram_range': ((1, 1), (1, 2))  # unigrams or bigrams\n",
    "    ,'subpipe_text__cv__min_df': (0.0001, 0.001, 0.01) # control number of ngrams (smaller proportion = less features)\n",
    "    ,'logreg__penalty': ['l1', 'l2', 'elasticnet']\n",
    "    ,'logreg__C': [100, 1.0, 0.01]\n",
    "    ,'logreg__solver': ['saga']\n",
    "    ,'logreg__max_iter': [1000, 5000, 10000]\n",
    "}"
   ]
  },
  {
   "cell_type": "code",
   "execution_count": null,
   "metadata": {},
   "outputs": [
    {
     "name": "stderr",
     "output_type": "stream",
     "text": [
      "/opt/anaconda3/envs/nlp-env/lib/python3.10/site-packages/sklearn/linear_model/_sag.py:352: ConvergenceWarning: The max_iter was reached which means the coef_ did not converge\n",
      "  warnings.warn(\n",
      "/opt/anaconda3/envs/nlp-env/lib/python3.10/site-packages/sklearn/linear_model/_sag.py:352: ConvergenceWarning: The max_iter was reached which means the coef_ did not converge\n",
      "  warnings.warn(\n",
      "/opt/anaconda3/envs/nlp-env/lib/python3.10/site-packages/sklearn/linear_model/_sag.py:352: ConvergenceWarning: The max_iter was reached which means the coef_ did not converge\n",
      "  warnings.warn(\n",
      "/opt/anaconda3/envs/nlp-env/lib/python3.10/site-packages/sklearn/linear_model/_sag.py:352: ConvergenceWarning: The max_iter was reached which means the coef_ did not converge\n",
      "  warnings.warn(\n",
      "/opt/anaconda3/envs/nlp-env/lib/python3.10/site-packages/sklearn/linear_model/_sag.py:352: ConvergenceWarning: The max_iter was reached which means the coef_ did not converge\n",
      "  warnings.warn(\n",
      "/opt/anaconda3/envs/nlp-env/lib/python3.10/site-packages/sklearn/linear_model/_sag.py:352: ConvergenceWarning: The max_iter was reached which means the coef_ did not converge\n",
      "  warnings.warn(\n",
      "/opt/anaconda3/envs/nlp-env/lib/python3.10/site-packages/sklearn/linear_model/_sag.py:352: ConvergenceWarning: The max_iter was reached which means the coef_ did not converge\n",
      "  warnings.warn(\n",
      "/opt/anaconda3/envs/nlp-env/lib/python3.10/site-packages/sklearn/linear_model/_sag.py:352: ConvergenceWarning: The max_iter was reached which means the coef_ did not converge\n",
      "  warnings.warn(\n",
      "/opt/anaconda3/envs/nlp-env/lib/python3.10/site-packages/sklearn/linear_model/_sag.py:352: ConvergenceWarning: The max_iter was reached which means the coef_ did not converge\n",
      "  warnings.warn(\n",
      "/opt/anaconda3/envs/nlp-env/lib/python3.10/site-packages/sklearn/linear_model/_sag.py:352: ConvergenceWarning: The max_iter was reached which means the coef_ did not converge\n",
      "  warnings.warn(\n",
      "/opt/anaconda3/envs/nlp-env/lib/python3.10/site-packages/sklearn/linear_model/_sag.py:352: ConvergenceWarning: The max_iter was reached which means the coef_ did not converge\n",
      "  warnings.warn(\n"
     ]
    }
   ],
   "source": [
    "%%time\n",
    "logreg_gs_cv1 = GridSearchCV(estimator=logreg_model_pipe, scoring=scoring, param_grid=params, cv=5, n_jobs=-2)\n",
    "logreg_gs_cv1.fit(X_train,y_train)"
   ]
  },
  {
   "cell_type": "code",
   "execution_count": null,
   "metadata": {},
   "outputs": [],
   "source": [
    "import pickle\n",
    "# save the model to disk\n",
    "filename = 'data/logreg_gs_cv1_model.sav'\n",
    "pickle.dump(logreg_gs_cv1, open(filename, 'wb'))"
   ]
  },
  {
   "cell_type": "code",
   "execution_count": null,
   "metadata": {},
   "outputs": [],
   "source": [
    "# import pickle\n",
    "# # retrieve the model from disk\n",
    "# filename = 'data/logreg_gs_cv1_model.sav'\n",
    "# logreg_gs_cv1 = pickle.load(open(filename, 'rb'))"
   ]
  },
  {
   "cell_type": "code",
   "execution_count": null,
   "metadata": {},
   "outputs": [],
   "source": [
    "logreg_gs_cv1.best_params_"
   ]
  },
  {
   "cell_type": "code",
   "execution_count": null,
   "metadata": {},
   "outputs": [],
   "source": [
    "break"
   ]
  },
  {
   "cell_type": "code",
   "execution_count": null,
   "metadata": {},
   "outputs": [],
   "source": []
  },
  {
   "cell_type": "code",
   "execution_count": null,
   "metadata": {},
   "outputs": [],
   "source": [
    "mnb_model_pipe = Pipeline(steps=[\n",
    "    ('subpipe_text',subpipe_text),\n",
    "    ('mnb', MultinomialNB())\n",
    "])\n",
    "mnb_cv = ModelWithCV(mnb_model_pipe, model_name='mnb_model_pipe', \n",
    "                                 X=X_train, y=y_train, scoring=scoring)"
   ]
  },
  {
   "cell_type": "code",
   "execution_count": null,
   "metadata": {},
   "outputs": [],
   "source": [
    "mnb_cv.print_cv_summary()\n",
    "fig, ax = plt.subplots()\n",
    "\n",
    "mnb_cv.plot_cv(ax=ax);"
   ]
  },
  {
   "cell_type": "code",
   "execution_count": null,
   "metadata": {},
   "outputs": [],
   "source": [
    "mnb_cv.plot_cv_confusion_matrix();\n",
    "\n",
    "# print the classification report to see model metrics\n",
    "print(classification_report(y_train, mnb_cv.cv_preds, zero_division=0))"
   ]
  },
  {
   "cell_type": "code",
   "execution_count": null,
   "metadata": {},
   "outputs": [],
   "source": [
    "params = {\n",
    "    'subpipe_text__cv__ngram_range': ((1, 1), (1, 2))  # unigrams or bigrams\n",
    "    ,'subpipe_text__cv__min_df': (0.0001, 0.001, 0.01) # control number of ngrams (smaller proportion = less features)\n",
    "    ,'clf__estimator__alpha': (1e-2, 1e-3)\n",
    "}\n",
    "\n",
    "grid_search_tune = GridSearchCV(pipeline, parameters, cv=2, n_jobs=2, verbose=3)\n",
    "grid_search_tune.fit(train_x, train_y)"
   ]
  }
 ],
 "metadata": {
  "kernelspec": {
   "display_name": "Python (nlp-env)",
   "language": "python",
   "name": "nlp-env"
  },
  "language_info": {
   "codemirror_mode": {
    "name": "ipython",
    "version": 3
   },
   "file_extension": ".py",
   "mimetype": "text/x-python",
   "name": "python",
   "nbconvert_exporter": "python",
   "pygments_lexer": "ipython3",
   "version": "3.10.4"
  },
  "toc": {
   "base_numbering": 1,
   "nav_menu": {},
   "number_sections": true,
   "sideBar": true,
   "skip_h1_title": false,
   "title_cell": "Table of Contents",
   "title_sidebar": "Contents",
   "toc_cell": false,
   "toc_position": {},
   "toc_section_display": true,
   "toc_window_display": false
  }
 },
 "nbformat": 4,
 "nbformat_minor": 5
}
