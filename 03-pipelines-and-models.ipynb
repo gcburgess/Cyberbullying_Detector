{
 "cells": [
  {
   "cell_type": "code",
   "execution_count": 1,
   "metadata": {},
   "outputs": [],
   "source": [
    "# Import standard packages\n",
    "import pandas as pd\n",
    "import numpy as np\n",
    "import matplotlib.pyplot as plt\n",
    "import seaborn as sns\n",
    "\n",
    "from sklearn.model_selection import train_test_split, cross_val_score, cross_val_predict, GridSearchCV\n",
    "from sklearn.utils import resample\n",
    "from sklearn.feature_extraction.text import CountVectorizer, TfidfVectorizer\n",
    "from sklearn.pipeline import Pipeline\n",
    "from sklearn.compose import ColumnTransformer\n",
    "from sklearn.dummy import DummyClassifier\n",
    "from sklearn.metrics import classification_report, f1_score, confusion_matrix, ConfusionMatrixDisplay\n",
    "from sklearn.linear_model import LogisticRegression\n",
    "from sklearn.naive_bayes import MultinomialNB\n",
    "from sklearn.preprocessing import StandardScaler\n",
    "\n",
    "from nltk.corpus import stopwords, wordnet\n",
    "from nltk.stem import WordNetLemmatizer\n",
    "from nltk.tokenize import RegexpTokenizer\n",
    "from nltk import pos_tag, FreqDist\n",
    "\n",
    "from wordcloud import WordCloud\n",
    "\n",
    "import pickle\n",
    "\n",
    "pd.options.display.float_format = '{:.3f}'.format\n",
    "pd.options.display.max_columns = 50\n",
    "pd.options.display.max_colwidth = 300 # max width of a column\n",
    "\n",
    "# set random seed to ensure reproducible results\n",
    "np.random.seed(42)\n",
    "\n",
    "#import custom_code.model_with_cv as custom_cv\n",
    "\n",
    "%matplotlib inline"
   ]
  },
  {
   "cell_type": "markdown",
   "metadata": {},
   "source": [
    "## Prepare data for modeling"
   ]
  },
  {
   "cell_type": "markdown",
   "metadata": {},
   "source": [
    "### Set up functions for preprocessing"
   ]
  },
  {
   "cell_type": "code",
   "execution_count": 2,
   "metadata": {},
   "outputs": [],
   "source": [
    "def get_wordnet_pos(treebank_tag):\n",
    "    '''\n",
    "    Translate nltk POS to wordnet tags\n",
    "    '''\n",
    "    if treebank_tag.startswith('J'):\n",
    "        return wordnet.ADJ\n",
    "    elif treebank_tag.startswith('V'):\n",
    "        return wordnet.VERB\n",
    "    elif treebank_tag.startswith('N'):\n",
    "        return wordnet.NOUN\n",
    "    elif treebank_tag.startswith('R'):\n",
    "        return wordnet.ADV\n",
    "    else:\n",
    "        return wordnet.NOUN"
   ]
  },
  {
   "cell_type": "code",
   "execution_count": 3,
   "metadata": {},
   "outputs": [],
   "source": [
    "# Added 'us' to stopwords, because the lemmatizer reduces it to 'u'\n",
    "sw = stopwords.words('english') + ['us']\n",
    "\n",
    "def word_processor(comment, stopword_list=sw):\n",
    "    # tokenize (simultaneously removes punctuation)\n",
    "    tokenizer = RegexpTokenizer(pattern=\"([a-zA-Z]+(?:'[a-z]+)?)\")\n",
    "    words = tokenizer.tokenize(comment)\n",
    "\n",
    "    # lowercase and remove stopwords\n",
    "    words = [word.lower() for word in words if word.lower() not in stopword_list]\n",
    "    \n",
    "    # lemmatize (accounting for part of speech)\n",
    "    lemmatizer = WordNetLemmatizer()\n",
    "    words = [lemmatizer.lemmatize(word[0], get_wordnet_pos(word[1])) \n",
    "             for word in pos_tag(words)]\n",
    "\n",
    "    return ' '.join(words)"
   ]
  },
  {
   "cell_type": "markdown",
   "metadata": {},
   "source": [
    "### Complete row-wise data cleaning and transformations"
   ]
  },
  {
   "cell_type": "code",
   "execution_count": 4,
   "metadata": {
    "scrolled": true
   },
   "outputs": [],
   "source": [
    "train_df = pd.read_csv('data/train_df.csv')"
   ]
  },
  {
   "cell_type": "code",
   "execution_count": 5,
   "metadata": {},
   "outputs": [
    {
     "name": "stdout",
     "output_type": "stream",
     "text": [
      "CPU times: user 17min 17s, sys: 12.9 s, total: 17min 30s\n",
      "Wall time: 17min 37s\n"
     ]
    }
   ],
   "source": [
    "%%time\n",
    "train_df['proc_text'] = train_df['comment_text'].map(word_processor)"
   ]
  },
  {
   "cell_type": "code",
   "execution_count": 6,
   "metadata": {},
   "outputs": [
    {
     "data": {
      "text/html": [
       "<div>\n",
       "<style scoped>\n",
       "    .dataframe tbody tr th:only-of-type {\n",
       "        vertical-align: middle;\n",
       "    }\n",
       "\n",
       "    .dataframe tbody tr th {\n",
       "        vertical-align: top;\n",
       "    }\n",
       "\n",
       "    .dataframe thead th {\n",
       "        text-align: right;\n",
       "    }\n",
       "</style>\n",
       "<table border=\"1\" class=\"dataframe\">\n",
       "  <thead>\n",
       "    <tr style=\"text-align: right;\">\n",
       "      <th></th>\n",
       "      <th>id</th>\n",
       "      <th>comment_text</th>\n",
       "      <th>target</th>\n",
       "      <th>proc_text</th>\n",
       "    </tr>\n",
       "  </thead>\n",
       "  <tbody>\n",
       "    <tr>\n",
       "      <th>0</th>\n",
       "      <td>6130267</td>\n",
       "      <td>I don't think I would be acting like a tough guy in front of my kid with a bat if the other guy had a gun.doesn't seem like much of a fight to me,but then most people don't bring bats to gun fights</td>\n",
       "      <td>1</td>\n",
       "      <td>think would act like tough guy front kid bat guy gun seem like much fight people bring bat gun fight</td>\n",
       "    </tr>\n",
       "    <tr>\n",
       "      <th>1</th>\n",
       "      <td>6120855</td>\n",
       "      <td>The Left will always defends scum like this, as long as their politics are \"correct\".  \\n\\nYet, Democrats and the Left are the ones that claim to want to defend women's rights ... the truth tells a far different story.</td>\n",
       "      <td>1</td>\n",
       "      <td>leave always defend scum like long politics correct yet democrats left one claim want defend women's right truth tell far different story</td>\n",
       "    </tr>\n",
       "    <tr>\n",
       "      <th>2</th>\n",
       "      <td>6233267</td>\n",
       "      <td>I think they will be fighting Hawaiian, Alaska/Virgin America, Delta, United , American Airlines for gate space during peak times at HNL. They all use or will be using medium size aircraft and fight with Wide bodies during this period. State is retrofitting  the diamond head concourse for Island...</td>\n",
       "      <td>1</td>\n",
       "      <td>think fight hawaiian alaska virgin america delta united american airline gate space peak time hnl use use medium size aircraft fight wide body period state retrofit diamond head concourse island air would accommodate sw enter inter island market somebody pay island air go</td>\n",
       "    </tr>\n",
       "    <tr>\n",
       "      <th>3</th>\n",
       "      <td>452907</td>\n",
       "      <td>Bad:  As pepper spray does not threaten serious bodily harm, nor a reasonable possibility of death, you would probably be prosecuted for use of unjustifiable deadly force.  And I was relieved to see you describe yourself as an \"ex-cop\".  I would be fearful of having to deal with you if you were ...</td>\n",
       "      <td>1</td>\n",
       "      <td>bad pepper spray threaten serious bodily harm reasonable possibility death would probably prosecute use unjustifiable deadly force relieve see describe ex cop would fearful deal still force</td>\n",
       "    </tr>\n",
       "    <tr>\n",
       "      <th>4</th>\n",
       "      <td>5494517</td>\n",
       "      <td>The fascist movements that threaten us is these twisted ugly leftist hate groups trying to destroy democracy and freedom of religion and freedom of speech disguised as liberalism?.\\nYou accept no other opinion but your own.\\nYou would destroy freedom instead of admitting you are wrong.\\nWe are t...</td>\n",
       "      <td>1</td>\n",
       "      <td>fascist movement threaten twist ugly leftist hate group try destroy democracy freedom religion freedom speech disguise liberalism accept opinion would destroy freedom instead admit wrong try stop islamist take country culture way life get blow either age f u lefty fascism think gonna let destroy...</td>\n",
       "    </tr>\n",
       "  </tbody>\n",
       "</table>\n",
       "</div>"
      ],
      "text/plain": [
       "        id  \\\n",
       "0  6130267   \n",
       "1  6120855   \n",
       "2  6233267   \n",
       "3   452907   \n",
       "4  5494517   \n",
       "\n",
       "                                                                                                                                                                                                                                                                                                  comment_text  \\\n",
       "0                                                                                                        I don't think I would be acting like a tough guy in front of my kid with a bat if the other guy had a gun.doesn't seem like much of a fight to me,but then most people don't bring bats to gun fights   \n",
       "1                                                                                   The Left will always defends scum like this, as long as their politics are \"correct\".  \\n\\nYet, Democrats and the Left are the ones that claim to want to defend women's rights ... the truth tells a far different story.   \n",
       "2  I think they will be fighting Hawaiian, Alaska/Virgin America, Delta, United , American Airlines for gate space during peak times at HNL. They all use or will be using medium size aircraft and fight with Wide bodies during this period. State is retrofitting  the diamond head concourse for Island...   \n",
       "3  Bad:  As pepper spray does not threaten serious bodily harm, nor a reasonable possibility of death, you would probably be prosecuted for use of unjustifiable deadly force.  And I was relieved to see you describe yourself as an \"ex-cop\".  I would be fearful of having to deal with you if you were ...   \n",
       "4  The fascist movements that threaten us is these twisted ugly leftist hate groups trying to destroy democracy and freedom of religion and freedom of speech disguised as liberalism?.\\nYou accept no other opinion but your own.\\nYou would destroy freedom instead of admitting you are wrong.\\nWe are t...   \n",
       "\n",
       "   target  \\\n",
       "0       1   \n",
       "1       1   \n",
       "2       1   \n",
       "3       1   \n",
       "4       1   \n",
       "\n",
       "                                                                                                                                                                                                                                                                                                     proc_text  \n",
       "0                                                                                                                                                                                                         think would act like tough guy front kid bat guy gun seem like much fight people bring bat gun fight  \n",
       "1                                                                                                                                                                    leave always defend scum like long politics correct yet democrats left one claim want defend women's right truth tell far different story  \n",
       "2                             think fight hawaiian alaska virgin america delta united american airline gate space peak time hnl use use medium size aircraft fight wide body period state retrofit diamond head concourse island air would accommodate sw enter inter island market somebody pay island air go  \n",
       "3                                                                                                                bad pepper spray threaten serious bodily harm reasonable possibility death would probably prosecute use unjustifiable deadly force relieve see describe ex cop would fearful deal still force  \n",
       "4  fascist movement threaten twist ugly leftist hate group try destroy democracy freedom religion freedom speech disguise liberalism accept opinion would destroy freedom instead admit wrong try stop islamist take country culture way life get blow either age f u lefty fascism think gonna let destroy...  "
      ]
     },
     "execution_count": 6,
     "metadata": {},
     "output_type": "execute_result"
    }
   ],
   "source": [
    "train_df.head()"
   ]
  },
  {
   "cell_type": "markdown",
   "metadata": {},
   "source": [
    "## Set up train-test split and preprocessing pipelines"
   ]
  },
  {
   "cell_type": "code",
   "execution_count": 7,
   "metadata": {},
   "outputs": [],
   "source": [
    "y = train_df['target']\n",
    "X = train_df['proc_text']\n",
    "\n",
    "X_train, X_test, y_train, y_test = train_test_split(X, y, random_state=42)"
   ]
  },
  {
   "cell_type": "code",
   "execution_count": 8,
   "metadata": {
    "scrolled": true
   },
   "outputs": [
    {
     "name": "stdout",
     "output_type": "stream",
     "text": [
      "<class 'pandas.core.series.Series'>\n",
      "Int64Index: 507613 entries, 140779 to 121958\n",
      "Series name: proc_text\n",
      "Non-Null Count   Dtype \n",
      "--------------   ----- \n",
      "507613 non-null  object\n",
      "dtypes: object(1)\n",
      "memory usage: 7.7+ MB\n"
     ]
    }
   ],
   "source": [
    "X_train.info()"
   ]
  },
  {
   "cell_type": "markdown",
   "metadata": {},
   "source": [
    "### Preprocessing pipeline"
   ]
  },
  {
   "cell_type": "markdown",
   "metadata": {},
   "source": [
    "Need to set up pipeline to perform preprocessing steps to each split of the data"
   ]
  },
  {
   "cell_type": "code",
   "execution_count": 9,
   "metadata": {},
   "outputs": [],
   "source": [
    "subpipe_text = Pipeline(steps=[\n",
    "    ('cv', CountVectorizer())\n",
    "])"
   ]
  },
  {
   "cell_type": "markdown",
   "metadata": {},
   "source": [
    "### Prepare pipelines for cross-validation testing"
   ]
  },
  {
   "cell_type": "code",
   "execution_count": 10,
   "metadata": {},
   "outputs": [],
   "source": [
    "# Specify scoring method that will be used to evaluate all models\n",
    "scoring=\"f1\""
   ]
  },
  {
   "cell_type": "code",
   "execution_count": 11,
   "metadata": {},
   "outputs": [],
   "source": [
    "dummy_model_pipe = Pipeline(steps=[\n",
    "    ('subpipe_text',subpipe_text),\n",
    "    ('dum_class', DummyClassifier(strategy='uniform'))\n",
    "])"
   ]
  },
  {
   "cell_type": "code",
   "execution_count": 12,
   "metadata": {},
   "outputs": [],
   "source": [
    "mnb_model_pipe = Pipeline(steps=[\n",
    "    ('subpipe_text',subpipe_text),\n",
    "    ('mnb', MultinomialNB())\n",
    "])"
   ]
  },
  {
   "cell_type": "code",
   "execution_count": 13,
   "metadata": {},
   "outputs": [],
   "source": [
    "logreg_model_pipe = Pipeline(steps=[\n",
    "    ('subpipe_text',subpipe_text),\n",
    "    ('ss', StandardScaler(with_mean=False)),\n",
    "    ('logreg', LogisticRegression(max_iter=10000))\n",
    "])"
   ]
  },
  {
   "cell_type": "code",
   "execution_count": 24,
   "metadata": {},
   "outputs": [],
   "source": [
    "### Using this class (From Flatiron School Lecture 51) to conduct \n",
    "### cross-validation, store, and display results\n",
    "\n",
    "class ModelWithCV():\n",
    "    '''Structure to save the model and more easily see its crossvalidation'''\n",
    "    \n",
    "    def __init__(self, model, model_name, X, y, cv_now=True, scoring=\"accuracy\"):\n",
    "        self.model = model\n",
    "        self.name = model_name\n",
    "        self.X = X\n",
    "        self.y = y\n",
    "        # For CV results\n",
    "        self.cv_results = None\n",
    "        self.cv_mean = None\n",
    "        self.cv_median = None\n",
    "        self.cv_std = None\n",
    "        self.cv_preds = None\n",
    "\n",
    "        #\n",
    "        if cv_now:\n",
    "            self.cross_validate()\n",
    "        \n",
    "    def cross_validate(self, X=None, y=None, kfolds=10):\n",
    "        '''\n",
    "        Perform cross-validation and return results.\n",
    "        \n",
    "        Args: \n",
    "          X:\n",
    "            Optional; Training data to perform CV on. Otherwise use X from object\n",
    "          y:\n",
    "            Optional; Training data to perform CV on. Otherwise use y from object\n",
    "          kfolds:\n",
    "            Optional; Number of folds for CV (default is 10)  \n",
    "        '''\n",
    "        \n",
    "        cv_X = X if X else self.X\n",
    "        cv_y = y if y else self.y\n",
    "\n",
    "        self.cv_results = cross_val_score(self.model, cv_X, cv_y, cv=kfolds, scoring=scoring)\n",
    "        self.cv_mean = np.mean(self.cv_results)\n",
    "        self.cv_median = np.median(self.cv_results)\n",
    "        self.cv_std = np.std(self.cv_results)\n",
    "\n",
    "        \n",
    "    def plot_cv_confusion_matrix(self, X=None, y=None, kfolds=10):\n",
    "        '''\n",
    "        Plot confusion matrix using predictions obtained by cross-validation (using cross_val_predict)\n",
    "        \n",
    "        Args: \n",
    "          X:\n",
    "            Optional; Training data to perform CV on. Otherwise use X from object\n",
    "          y:\n",
    "            Optional; Training data to perform CV on. Otherwise use y from object\n",
    "          kfolds:\n",
    "            Optional; Number of folds for CV (default is 10)  \n",
    "        '''\n",
    "        \n",
    "        cv_X = X if X else self.X\n",
    "        cv_y = y if y else self.y\n",
    "        \n",
    "        self.cv_preds = cross_val_predict(self.model, cv_X, cv_y, cv=kfolds)\n",
    "\n",
    "        #labels=self.model.classes_\n",
    "        labels=[0,1]\n",
    "        cm = confusion_matrix(cv_y, self.cv_preds, labels=labels)\n",
    "        disp = ConfusionMatrixDisplay(confusion_matrix=cm, display_labels=labels)\n",
    "        disp.plot();\n",
    "\n",
    "\n",
    "        \n",
    "    def print_cv_summary(self):\n",
    "        cv_summary = (\n",
    "        f'''CV Results for `{self.name}` model:\n",
    "            {self.cv_mean:.5f} ± {self.cv_std:.5f} {scoring}\n",
    "        ''')\n",
    "        print(cv_summary)\n",
    "\n",
    "        \n",
    "    def plot_cv(self, ax):\n",
    "        '''\n",
    "        Plot the cross-validation values using the array of results and given \n",
    "        Axis for plotting.\n",
    "        '''\n",
    "        ax.set_title(f'CV Results for `{self.name}` Model')\n",
    "        # Thinner violinplot with higher bw\n",
    "        sns.violinplot(y=self.cv_results, ax=ax, bw=.4)\n",
    "        sns.swarmplot(\n",
    "                y=self.cv_results,\n",
    "                color='orange',\n",
    "                size=10,\n",
    "                alpha= 0.8,\n",
    "                ax=ax\n",
    "        )\n",
    "\n",
    "        return ax"
   ]
  },
  {
   "cell_type": "markdown",
   "metadata": {},
   "source": [
    "## Run Baseline DummyClassifier"
   ]
  },
  {
   "cell_type": "code",
   "execution_count": 26,
   "metadata": {},
   "outputs": [],
   "source": [
    "dummy_cv = ModelWithCV(dummy_model_pipe, model_name='dummy_model_pipe', \n",
    "                       X=X_train, y=y_train, scoring=scoring)"
   ]
  },
  {
   "cell_type": "code",
   "execution_count": 27,
   "metadata": {},
   "outputs": [
    {
     "name": "stdout",
     "output_type": "stream",
     "text": [
      "CV Results for `dummy_model_pipe` model:\n",
      "            0.50027 ± 0.00364 f1\n",
      "        \n"
     ]
    },
    {
     "data": {
      "image/png": "[encoded data removed]",
      "text/plain": [
       "<Figure size 432x288 with 1 Axes>"
      ]
     },
     "metadata": {
      "needs_background": "light"
     },
     "output_type": "display_data"
    }
   ],
   "source": [
    "dummy_cv.print_cv_summary()\n",
    "fig, ax = plt.subplots()\n",
    "\n",
    "dummy_cv.plot_cv(ax=ax);"
   ]
  },
  {
   "cell_type": "code",
   "execution_count": 28,
   "metadata": {},
   "outputs": [
    {
     "name": "stdout",
     "output_type": "stream",
     "text": [
      "              precision    recall  f1-score   support\n",
      "\n",
      "           0       0.50      0.50      0.50    253665\n",
      "           1       0.50      0.50      0.50    253948\n",
      "\n",
      "    accuracy                           0.50    507613\n",
      "   macro avg       0.50      0.50      0.50    507613\n",
      "weighted avg       0.50      0.50      0.50    507613\n",
      "\n"
     ]
    },
    {
     "data": {
      "image/png": "[encoded data removed]",
      "text/plain": [
       "<Figure size 432x288 with 2 Axes>"
      ]
     },
     "metadata": {
      "needs_background": "light"
     },
     "output_type": "display_data"
    }
   ],
   "source": [
    "dummy_cv.plot_cv_confusion_matrix();\n",
    "\n",
    "# print the classification report to see model metrics\n",
    "print(classification_report(y_train, dummy_cv.cv_preds, zero_division=0))"
   ]
  },
  {
   "cell_type": "code",
   "execution_count": null,
   "metadata": {},
   "outputs": [],
   "source": []
  },
  {
   "cell_type": "code",
   "execution_count": null,
   "metadata": {},
   "outputs": [],
   "source": []
  },
  {
   "cell_type": "code",
   "execution_count": 29,
   "metadata": {},
   "outputs": [],
   "source": [
    "mnb_cv = ModelWithCV(mnb_model_pipe, model_name='mnb_model_pipe', \n",
    "                     X=X_train, y=y_train, scoring=scoring)"
   ]
  },
  {
   "cell_type": "code",
   "execution_count": 30,
   "metadata": {},
   "outputs": [
    {
     "name": "stdout",
     "output_type": "stream",
     "text": [
      "CV Results for `mnb_model_pipe` model:\n",
      "            0.75294 ± 0.00202 f1\n",
      "        \n"
     ]
    },
    {
     "data": {
      "image/png": "[encoded data removed]",
      "text/plain": [
       "<Figure size 432x288 with 1 Axes>"
      ]
     },
     "metadata": {
      "needs_background": "light"
     },
     "output_type": "display_data"
    }
   ],
   "source": [
    "mnb_cv.print_cv_summary()\n",
    "fig, ax = plt.subplots()\n",
    "\n",
    "mnb_cv.plot_cv(ax=ax);"
   ]
  },
  {
   "cell_type": "code",
   "execution_count": 31,
   "metadata": {},
   "outputs": [
    {
     "name": "stdout",
     "output_type": "stream",
     "text": [
      "              precision    recall  f1-score   support\n",
      "\n",
      "           0       0.78      0.65      0.71    253665\n",
      "           1       0.70      0.81      0.75    253948\n",
      "\n",
      "    accuracy                           0.73    507613\n",
      "   macro avg       0.74      0.73      0.73    507613\n",
      "weighted avg       0.74      0.73      0.73    507613\n",
      "\n"
     ]
    },
    {
     "data": {
      "image/png": "[encoded data removed]",
      "text/plain": [
       "<Figure size 432x288 with 2 Axes>"
      ]
     },
     "metadata": {
      "needs_background": "light"
     },
     "output_type": "display_data"
    }
   ],
   "source": [
    "mnb_cv.plot_cv_confusion_matrix();\n",
    "\n",
    "# print the classification report to see model metrics\n",
    "print(classification_report(y_train, mnb_cv.cv_preds, zero_division=0))"
   ]
  },
  {
   "cell_type": "code",
   "execution_count": null,
   "metadata": {},
   "outputs": [],
   "source": []
  },
  {
   "cell_type": "code",
   "execution_count": null,
   "metadata": {},
   "outputs": [],
   "source": []
  },
  {
   "cell_type": "code",
   "execution_count": 58,
   "metadata": {},
   "outputs": [],
   "source": [
    "logreg_defaults_cv = ModelWithCV(logreg_model_pipe, model_name='logreg_defaults_model_pipe', \n",
    "                                 X=X_train, y=y_train, scoring=scoring)"
   ]
  },
  {
   "cell_type": "code",
   "execution_count": 59,
   "metadata": {},
   "outputs": [
    {
     "name": "stdout",
     "output_type": "stream",
     "text": [
      "CV Results for `logreg_defaults_model_pipe` model:\n",
      "            0.74955 ± 0.00125 f1\n",
      "        \n"
     ]
    },
    {
     "data": {
      "image/png": "[encoded data removed]",
      "text/plain": [
       "<Figure size 432x288 with 1 Axes>"
      ]
     },
     "metadata": {
      "needs_background": "light"
     },
     "output_type": "display_data"
    }
   ],
   "source": [
    "logreg_defaults_cv.print_cv_summary()\n",
    "\n",
    "fig, ax = plt.subplots()\n",
    "logreg_defaults_cv.plot_cv(ax=ax);"
   ]
  },
  {
   "cell_type": "code",
   "execution_count": 60,
   "metadata": {},
   "outputs": [
    {
     "name": "stdout",
     "output_type": "stream",
     "text": [
      "              precision    recall  f1-score   support\n",
      "\n",
      "           0       0.74      0.79      0.77    253665\n",
      "           1       0.78      0.72      0.75    253948\n",
      "\n",
      "    accuracy                           0.76    507613\n",
      "   macro avg       0.76      0.76      0.76    507613\n",
      "weighted avg       0.76      0.76      0.76    507613\n",
      "\n"
     ]
    },
    {
     "data": {
      "image/png": "[encoded data removed]",
      "text/plain": [
       "<Figure size 432x288 with 2 Axes>"
      ]
     },
     "metadata": {
      "needs_background": "light"
     },
     "output_type": "display_data"
    }
   ],
   "source": [
    "logreg_defaults_cv.plot_cv_confusion_matrix();\n",
    "\n",
    "# print the classification report to see model metrics\n",
    "print(classification_report(y_train, logreg_defaults_cv.cv_preds, zero_division=0))"
   ]
  },
  {
   "cell_type": "code",
   "execution_count": null,
   "metadata": {},
   "outputs": [],
   "source": []
  },
  {
   "cell_type": "code",
   "execution_count": null,
   "metadata": {},
   "outputs": [],
   "source": []
  },
  {
   "cell_type": "code",
   "execution_count": 40,
   "metadata": {},
   "outputs": [],
   "source": [
    "params = {\n",
    "    'subpipe_text__cv__min_df': (0.0001, 0.001, 0.01) # control number of ngrams (smaller proportion = less features)\n",
    "    ,'mnb__alpha': (1, 1e-2, 1e-3)\n",
    "}"
   ]
  },
  {
   "cell_type": "code",
   "execution_count": 41,
   "metadata": {},
   "outputs": [
    {
     "name": "stdout",
     "output_type": "stream",
     "text": [
      "Fitting 3 folds for each of 9 candidates, totalling 27 fits\n"
     ]
    },
    {
     "data": {
      "text/plain": [
       "GridSearchCV(cv=3,\n",
       "             estimator=Pipeline(steps=[('subpipe_text',\n",
       "                                        Pipeline(steps=[('cv',\n",
       "                                                         CountVectorizer())])),\n",
       "                                       ('mnb', MultinomialNB())]),\n",
       "             n_jobs=-2,\n",
       "             param_grid={'mnb__alpha': (1, 0.01, 0.001),\n",
       "                         'subpipe_text__cv__min_df': (0.0001, 0.001, 0.01)},\n",
       "             scoring='f1', verbose=2)"
      ]
     },
     "execution_count": 41,
     "metadata": {},
     "output_type": "execute_result"
    }
   ],
   "source": [
    "mnb_gs_cv1 = GridSearchCV(estimator=mnb_model_pipe, scoring=scoring, param_grid=params, cv=3, n_jobs=-2, verbose=2)\n",
    "mnb_gs_cv1.fit(X_train,y_train)"
   ]
  },
  {
   "cell_type": "code",
   "execution_count": 43,
   "metadata": {},
   "outputs": [
    {
     "data": {
      "text/plain": [
       "{'mnb__alpha': 0.001, 'subpipe_text__cv__min_df': 0.0001}"
      ]
     },
     "execution_count": 43,
     "metadata": {},
     "output_type": "execute_result"
    }
   ],
   "source": [
    "mnb_gs_cv1.best_params_"
   ]
  },
  {
   "cell_type": "code",
   "execution_count": 44,
   "metadata": {},
   "outputs": [
    {
     "data": {
      "text/plain": [
       "0.7529388146881663"
      ]
     },
     "execution_count": 44,
     "metadata": {},
     "output_type": "execute_result"
    }
   ],
   "source": [
    "mnb_gs_cv1.best_score_"
   ]
  },
  {
   "cell_type": "code",
   "execution_count": null,
   "metadata": {},
   "outputs": [],
   "source": []
  },
  {
   "cell_type": "code",
   "execution_count": 67,
   "metadata": {},
   "outputs": [],
   "source": [
    "params = {\n",
    "    'subpipe_text__cv__min_df': (0.0001, 0.001) # control number of ngrams (smaller proportion = less features)\n",
    "    ,'logreg__penalty': ['l2', 'elasticnet']\n",
    "    ,'logreg__C': [0.1, 0.001]\n",
    "    ,'logreg__solver': ['saga']\n",
    "    ,'logreg__l1_ratio': [0.5]\n",
    "}"
   ]
  },
  {
   "cell_type": "code",
   "execution_count": 68,
   "metadata": {},
   "outputs": [
    {
     "name": "stdout",
     "output_type": "stream",
     "text": [
      "Fitting 3 folds for each of 8 candidates, totalling 24 fits\n"
     ]
    },
    {
     "name": "stderr",
     "output_type": "stream",
     "text": [
      "/opt/anaconda3/envs/nlp-env/lib/python3.10/site-packages/sklearn/linear_model/_logistic.py:1476: UserWarning: l1_ratio parameter is only used when penalty is 'elasticnet'. Got (penalty=l2)\n",
      "  warnings.warn(\n",
      "/opt/anaconda3/envs/nlp-env/lib/python3.10/site-packages/sklearn/linear_model/_logistic.py:1476: UserWarning: l1_ratio parameter is only used when penalty is 'elasticnet'. Got (penalty=l2)\n",
      "  warnings.warn(\n",
      "/opt/anaconda3/envs/nlp-env/lib/python3.10/site-packages/sklearn/linear_model/_logistic.py:1476: UserWarning: l1_ratio parameter is only used when penalty is 'elasticnet'. Got (penalty=l2)\n",
      "  warnings.warn(\n",
      "/opt/anaconda3/envs/nlp-env/lib/python3.10/site-packages/sklearn/linear_model/_logistic.py:1476: UserWarning: l1_ratio parameter is only used when penalty is 'elasticnet'. Got (penalty=l2)\n",
      "  warnings.warn(\n",
      "/opt/anaconda3/envs/nlp-env/lib/python3.10/site-packages/sklearn/linear_model/_logistic.py:1476: UserWarning: l1_ratio parameter is only used when penalty is 'elasticnet'. Got (penalty=l2)\n",
      "  warnings.warn(\n",
      "/opt/anaconda3/envs/nlp-env/lib/python3.10/site-packages/sklearn/linear_model/_logistic.py:1476: UserWarning: l1_ratio parameter is only used when penalty is 'elasticnet'. Got (penalty=l2)\n",
      "  warnings.warn(\n",
      "/opt/anaconda3/envs/nlp-env/lib/python3.10/site-packages/sklearn/linear_model/_logistic.py:1476: UserWarning: l1_ratio parameter is only used when penalty is 'elasticnet'. Got (penalty=l2)\n",
      "  warnings.warn(\n",
      "/opt/anaconda3/envs/nlp-env/lib/python3.10/site-packages/sklearn/linear_model/_logistic.py:1476: UserWarning: l1_ratio parameter is only used when penalty is 'elasticnet'. Got (penalty=l2)\n",
      "  warnings.warn(\n",
      "/opt/anaconda3/envs/nlp-env/lib/python3.10/site-packages/sklearn/linear_model/_logistic.py:1476: UserWarning: l1_ratio parameter is only used when penalty is 'elasticnet'. Got (penalty=l2)\n",
      "  warnings.warn(\n",
      "/opt/anaconda3/envs/nlp-env/lib/python3.10/site-packages/sklearn/linear_model/_logistic.py:1476: UserWarning: l1_ratio parameter is only used when penalty is 'elasticnet'. Got (penalty=l2)\n",
      "  warnings.warn(\n",
      "/opt/anaconda3/envs/nlp-env/lib/python3.10/site-packages/sklearn/linear_model/_logistic.py:1476: UserWarning: l1_ratio parameter is only used when penalty is 'elasticnet'. Got (penalty=l2)\n",
      "  warnings.warn(\n",
      "/opt/anaconda3/envs/nlp-env/lib/python3.10/site-packages/sklearn/linear_model/_logistic.py:1476: UserWarning: l1_ratio parameter is only used when penalty is 'elasticnet'. Got (penalty=l2)\n",
      "  warnings.warn(\n"
     ]
    },
    {
     "name": "stdout",
     "output_type": "stream",
     "text": [
      "[CV] END logreg__C=0.1, logreg__l1_ratio=0.5, logreg__penalty=l2, logreg__solver=saga, subpipe_text__cv__min_df=0.0001; total time= 2.2min\n",
      "[CV] END logreg__C=0.1, logreg__l1_ratio=0.5, logreg__penalty=elasticnet, logreg__solver=saga, subpipe_text__cv__min_df=0.001; total time=20.3min\n",
      "[CV] END logreg__C=0.001, logreg__l1_ratio=0.5, logreg__penalty=elasticnet, logreg__solver=saga, subpipe_text__cv__min_df=0.001; total time= 6.0min\n",
      "[CV] END logreg__C=0.1, logreg__l1_ratio=0.5, logreg__penalty=l2, logreg__solver=saga, subpipe_text__cv__min_df=0.0001; total time= 4.2min\n",
      "[CV] END logreg__C=0.001, logreg__l1_ratio=0.5, logreg__penalty=l2, logreg__solver=saga, subpipe_text__cv__min_df=0.0001; total time= 1.2min\n",
      "[CV] END logreg__C=0.001, logreg__l1_ratio=0.5, logreg__penalty=l2, logreg__solver=saga, subpipe_text__cv__min_df=0.0001; total time= 1.3min\n",
      "[CV] END logreg__C=0.001, logreg__l1_ratio=0.5, logreg__penalty=l2, logreg__solver=saga, subpipe_text__cv__min_df=0.0001; total time= 1.2min\n",
      "[CV] END logreg__C=0.001, logreg__l1_ratio=0.5, logreg__penalty=l2, logreg__solver=saga, subpipe_text__cv__min_df=0.001; total time=  39.0s\n",
      "[CV] END logreg__C=0.001, logreg__l1_ratio=0.5, logreg__penalty=l2, logreg__solver=saga, subpipe_text__cv__min_df=0.001; total time=  45.2s\n",
      "[CV] END logreg__C=0.001, logreg__l1_ratio=0.5, logreg__penalty=l2, logreg__solver=saga, subpipe_text__cv__min_df=0.001; total time=  44.1s\n",
      "[CV] END logreg__C=0.001, logreg__l1_ratio=0.5, logreg__penalty=elasticnet, logreg__solver=saga, subpipe_text__cv__min_df=0.0001; total time=11.5min\n",
      "[CV] END logreg__C=0.001, logreg__l1_ratio=0.5, logreg__penalty=elasticnet, logreg__solver=saga, subpipe_text__cv__min_df=0.001; total time= 4.9min\n",
      "[CV] END logreg__C=0.001, logreg__l1_ratio=0.5, logreg__penalty=elasticnet, logreg__solver=saga, subpipe_text__cv__min_df=0.001; total time= 5.9min\n",
      "[CV] END logreg__C=0.1, logreg__l1_ratio=0.5, logreg__penalty=l2, logreg__solver=saga, subpipe_text__cv__min_df=0.001; total time= 1.6min\n",
      "[CV] END logreg__C=0.1, logreg__l1_ratio=0.5, logreg__penalty=elasticnet, logreg__solver=saga, subpipe_text__cv__min_df=0.001; total time=16.9min\n",
      "[CV] END logreg__C=0.001, logreg__l1_ratio=0.5, logreg__penalty=elasticnet, logreg__solver=saga, subpipe_text__cv__min_df=0.0001; total time=15.5min\n",
      "[CV] END logreg__C=0.1, logreg__l1_ratio=0.5, logreg__penalty=l2, logreg__solver=saga, subpipe_text__cv__min_df=0.0001; total time= 2.5min\n",
      "[CV] END logreg__C=0.1, logreg__l1_ratio=0.5, logreg__penalty=elasticnet, logreg__solver=saga, subpipe_text__cv__min_df=0.001; total time=18.4min\n",
      "[CV] END logreg__C=0.001, logreg__l1_ratio=0.5, logreg__penalty=elasticnet, logreg__solver=saga, subpipe_text__cv__min_df=0.0001; total time=14.8min\n",
      "[CV] END logreg__C=0.1, logreg__l1_ratio=0.5, logreg__penalty=elasticnet, logreg__solver=saga, subpipe_text__cv__min_df=0.0001; total time=102.4min\n",
      "[CV] END logreg__C=0.1, logreg__l1_ratio=0.5, logreg__penalty=l2, logreg__solver=saga, subpipe_text__cv__min_df=0.001; total time= 1.5min\n",
      "[CV] END logreg__C=0.1, logreg__l1_ratio=0.5, logreg__penalty=elasticnet, logreg__solver=saga, subpipe_text__cv__min_df=0.0001; total time=120.8min\n",
      "[CV] END logreg__C=0.1, logreg__l1_ratio=0.5, logreg__penalty=l2, logreg__solver=saga, subpipe_text__cv__min_df=0.001; total time= 1.4min\n",
      "[CV] END logreg__C=0.1, logreg__l1_ratio=0.5, logreg__penalty=elasticnet, logreg__solver=saga, subpipe_text__cv__min_df=0.0001; total time=201.3min\n",
      "CPU times: user 30min 59s, sys: 12.5 s, total: 31min 12s\n",
      "Wall time: 3h 54min\n"
     ]
    },
    {
     "data": {
      "text/plain": [
       "GridSearchCV(cv=3,\n",
       "             estimator=Pipeline(steps=[('subpipe_text',\n",
       "                                        Pipeline(steps=[('cv',\n",
       "                                                         CountVectorizer())])),\n",
       "                                       ('ss', StandardScaler(with_mean=False)),\n",
       "                                       ('logreg',\n",
       "                                        LogisticRegression(max_iter=10000))]),\n",
       "             n_jobs=-2,\n",
       "             param_grid={'logreg__C': [0.1, 0.001], 'logreg__l1_ratio': [0.5],\n",
       "                         'logreg__penalty': ['l2', 'elasticnet'],\n",
       "                         'logreg__solver': ['saga'],\n",
       "                         'subpipe_text__cv__min_df': (0.0001, 0.001)},\n",
       "             scoring='f1', verbose=2)"
      ]
     },
     "execution_count": 68,
     "metadata": {},
     "output_type": "execute_result"
    }
   ],
   "source": [
    "%%time\n",
    "logreg_gs_cv1 = GridSearchCV(estimator=logreg_model_pipe, scoring=scoring, \n",
    "                             param_grid=params, cv=3, n_jobs=-2, verbose=2)\n",
    "logreg_gs_cv1.fit(X_train,y_train)"
   ]
  },
  {
   "cell_type": "code",
   "execution_count": 69,
   "metadata": {},
   "outputs": [],
   "source": [
    "# import pickle\n",
    "# # save the model to disk\n",
    "# filename = 'data/logreg_gs_cv1_model.sav'\n",
    "# pickle.dump(logreg_gs_cv1, open(filename, 'wb'))"
   ]
  },
  {
   "cell_type": "code",
   "execution_count": 70,
   "metadata": {},
   "outputs": [],
   "source": [
    "# import pickle\n",
    "# # retrieve the model from disk\n",
    "# filename = 'data/logreg_gs_cv1_model.sav'\n",
    "# logreg_gs_cv1 = pickle.load(open(filename, 'rb'))"
   ]
  },
  {
   "cell_type": "code",
   "execution_count": 71,
   "metadata": {},
   "outputs": [
    {
     "data": {
      "text/plain": [
       "{'logreg__C': 0.001,\n",
       " 'logreg__l1_ratio': 0.5,\n",
       " 'logreg__penalty': 'elasticnet',\n",
       " 'logreg__solver': 'saga',\n",
       " 'subpipe_text__cv__min_df': 0.0001}"
      ]
     },
     "execution_count": 71,
     "metadata": {},
     "output_type": "execute_result"
    }
   ],
   "source": [
    "logreg_gs_cv1.best_params_"
   ]
  },
  {
   "cell_type": "code",
   "execution_count": 72,
   "metadata": {},
   "outputs": [
    {
     "data": {
      "text/plain": [
       "0.7951394180749527"
      ]
     },
     "execution_count": 72,
     "metadata": {},
     "output_type": "execute_result"
    }
   ],
   "source": [
    "logreg_gs_cv1.best_score_"
   ]
  },
  {
   "cell_type": "code",
   "execution_count": null,
   "metadata": {},
   "outputs": [],
   "source": []
  },
  {
   "cell_type": "code",
   "execution_count": 20,
   "metadata": {},
   "outputs": [],
   "source": [
    "final_text = Pipeline(steps=[\n",
    "    ('cv', CountVectorizer(min_df=0.0001))\n",
    "])\n",
    "\n",
    "final_model = LogisticRegression(\n",
    "    C=0.001,\n",
    "    penalty='elasticnet',solver='saga',\n",
    "    l1_ratio=0.5,\n",
    "    max_iter=10000\n",
    ")\n",
    "\n",
    "final_model_pipe = Pipeline(verbose=True, steps=[\n",
    "    ('final_text',final_text),\n",
    "    ('ss', StandardScaler(with_mean=False)),\n",
    "    ('final_model', final_model)\n",
    "])"
   ]
  },
  {
   "cell_type": "code",
   "execution_count": 21,
   "metadata": {},
   "outputs": [
    {
     "name": "stdout",
     "output_type": "stream",
     "text": [
      "[Pipeline] ........ (step 1 of 3) Processing final_text, total=  10.6s\n",
      "[Pipeline] ................ (step 2 of 3) Processing ss, total=   0.8s\n",
      "[Pipeline] ....... (step 3 of 3) Processing final_model, total=30.1min\n",
      "CPU times: user 30min 2s, sys: 5.44 s, total: 30min 8s\n",
      "Wall time: 30min 16s\n"
     ]
    },
    {
     "data": {
      "text/plain": [
       "Pipeline(steps=[('final_text',\n",
       "                 Pipeline(steps=[('cv', CountVectorizer(min_df=0.0001))])),\n",
       "                ('ss', StandardScaler(with_mean=False)),\n",
       "                ('final_model',\n",
       "                 LogisticRegression(C=0.001, l1_ratio=0.5, max_iter=10000,\n",
       "                                    penalty='elasticnet', solver='saga'))],\n",
       "         verbose=True)"
      ]
     },
     "execution_count": 21,
     "metadata": {},
     "output_type": "execute_result"
    }
   ],
   "source": [
    "%%time\n",
    "final_model_pipe.fit(X_train, y_train)"
   ]
  },
  {
   "cell_type": "code",
   "execution_count": 23,
   "metadata": {},
   "outputs": [
    {
     "data": {
      "image/png": "[encoded data removed]",
      "text/plain": [
       "<Figure size 432x288 with 2 Axes>"
      ]
     },
     "metadata": {
      "needs_background": "light"
     },
     "output_type": "display_data"
    }
   ],
   "source": [
    "y_preds = final_model_pipe.predict(X_test)\n",
    "labels=final_model_pipe.classes_\n",
    "cm = confusion_matrix(y_test, y_preds, labels=labels, normalize='true')\n",
    "disp = ConfusionMatrixDisplay(confusion_matrix=cm, display_labels=labels)\n",
    "disp.plot();"
   ]
  },
  {
   "cell_type": "code",
   "execution_count": 24,
   "metadata": {},
   "outputs": [
    {
     "name": "stdout",
     "output_type": "stream",
     "text": [
      "              precision    recall  f1-score   support\n",
      "\n",
      "           0       0.79      0.85      0.82     84744\n",
      "           1       0.84      0.77      0.80     84461\n",
      "\n",
      "    accuracy                           0.81    169205\n",
      "   macro avg       0.81      0.81      0.81    169205\n",
      "weighted avg       0.81      0.81      0.81    169205\n",
      "\n"
     ]
    }
   ],
   "source": [
    "print(classification_report(y_test, y_preds, zero_division=0))"
   ]
  },
  {
   "cell_type": "code",
   "execution_count": 74,
   "metadata": {},
   "outputs": [],
   "source": [
    "feature_names = final_model_pipe.named_steps['final_text'].named_steps['cv'].get_feature_names_out()\n",
    "final_model_coefs = final_model_pipe.named_steps['final_model'].coef_[0]\n",
    "feature_coefs = dict(zip(feature_names, final_model_coefs))\n",
    "top_feature_coefs = dict(sorted(feature_coefs.items(), key=lambda x:x[1], reverse=True)[:20])"
   ]
  },
  {
   "cell_type": "code",
   "execution_count": 79,
   "metadata": {},
   "outputs": [
    {
     "data": {
      "image/png": "[encoded data removed]",
      "text/plain": [
       "<Figure size 864x576 with 1 Axes>"
      ]
     },
     "metadata": {
      "needs_background": "light"
     },
     "output_type": "display_data"
    }
   ],
   "source": [
    "plt.figure(figsize=(12, 8))\n",
    "sns.barplot(\n",
    "    x=list(top_feature_coefs.values()),\n",
    "    y=list(top_feature_coefs.keys()),\n",
    "    palette='crest'\n",
    ")\n",
    "plt.xlabel(\"Logistic Regression Coefficients\");\n",
    "#plt.savefig('images/logistic_regression_coefs.jpg', transparent = False, bbox_inches=\"tight\");"
   ]
  },
  {
   "cell_type": "code",
   "execution_count": 80,
   "metadata": {},
   "outputs": [],
   "source": [
    "# pickle_out = open(\"data/final_model_pipe.pkl\", mode = \"wb\") \n",
    "# pickle.dump(final_model_pipe, pickle_out) \n",
    "# pickle_out.close()"
   ]
  },
  {
   "cell_type": "code",
   "execution_count": null,
   "metadata": {},
   "outputs": [],
   "source": []
  },
  {
   "cell_type": "code",
   "execution_count": 87,
   "metadata": {},
   "outputs": [],
   "source": [
    "def detect(text):\n",
    "    pred = final_model_pipe.predict(pd.Series([text]))\n",
    "    if   pred == 0:\n",
    "        print(\"not a toxic comment\")\n",
    "    elif pred == 1:\n",
    "        print(\"toxic comment\")\n",
    "    else:\n",
    "        print(\"could not get prediction for comment: \", text)\n",
    "    return None"
   ]
  },
  {
   "cell_type": "code",
   "execution_count": 88,
   "metadata": {},
   "outputs": [
    {
     "name": "stdout",
     "output_type": "stream",
     "text": [
      "toxic comment\n"
     ]
    }
   ],
   "source": [
    "detect(\"You're a stupid idiot\")"
   ]
  },
  {
   "cell_type": "code",
   "execution_count": 89,
   "metadata": {},
   "outputs": [
    {
     "name": "stdout",
     "output_type": "stream",
     "text": [
      "not a toxic comment\n"
     ]
    }
   ],
   "source": [
    "detect('You are awesome and I love you')"
   ]
  },
  {
   "cell_type": "code",
   "execution_count": 92,
   "metadata": {},
   "outputs": [
    {
     "name": "stdout",
     "output_type": "stream",
     "text": [
      "toxic comment\n"
     ]
    }
   ],
   "source": [
    "detect('Damn, I love you silly')"
   ]
  },
  {
   "cell_type": "code",
   "execution_count": null,
   "metadata": {},
   "outputs": [],
   "source": []
  }
 ],
 "metadata": {
  "kernelspec": {
   "display_name": "Python (nlp-env)",
   "language": "python",
   "name": "nlp-env"
  },
  "language_info": {
   "codemirror_mode": {
    "name": "ipython",
    "version": 3
   },
   "file_extension": ".py",
   "mimetype": "text/x-python",
   "name": "python",
   "nbconvert_exporter": "python",
   "pygments_lexer": "ipython3",
   "version": "3.10.4"
  },
  "toc": {
   "base_numbering": 1,
   "nav_menu": {},
   "number_sections": true,
   "sideBar": true,
   "skip_h1_title": false,
   "title_cell": "Table of Contents",
   "title_sidebar": "Contents",
   "toc_cell": false,
   "toc_position": {},
   "toc_section_display": true,
   "toc_window_display": false
  }
 },
 "nbformat": 4,
 "nbformat_minor": 5
}
